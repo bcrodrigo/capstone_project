{
 "cells": [
  {
   "cell_type": "markdown",
   "id": "7c2b8394-9d19-47d3-9766-6739fdaabc72",
   "metadata": {},
   "source": [
    "01_EDA_preprocessing_03dataset_part2.ipynb"
   ]
  },
  {
   "cell_type": "markdown",
   "id": "77634e00-e32d-4ffe-8f6d-2bacb7e19faf",
   "metadata": {},
   "source": [
    "# Preprocessing and EDA on 03_wildfire_dataset - part 2\n",
    "\n",
    "Rodrigo Becerra Carrillo\n",
    "\n",
    "https://github.com/bcrodrigo"
   ]
  },
  {
   "cell_type": "markdown",
   "id": "de4f0d1e-09b0-4b30-8787-7e0bae582303",
   "metadata": {
    "editable": true,
    "slideshow": {
     "slide_type": ""
    },
    "tags": []
   },
   "source": [
    "# Introduction"
   ]
  },
  {
   "cell_type": "markdown",
   "id": "b696507c-9129-436b-aa18-806a850661c3",
   "metadata": {},
   "source": [
    "IN this notebook I'll resize all images in the following dataset:\n",
    "\n",
    "- `03_wildfire_dataset` \n",
    "\n",
    "From their current size into 250 x 250 pixels.\n",
    "\n",
    "**Dataset Source:** https://www.kaggle.com/datasets/elmadafri/the-wildfire-dataset/data"
   ]
  },
  {
   "cell_type": "markdown",
   "id": "55843fd4-b7b0-42be-a4a5-991aaf583976",
   "metadata": {},
   "source": [
    "## Directory Structure"
   ]
  },
  {
   "cell_type": "markdown",
   "id": "dda4cbc9-5c84-4e17-912b-49cd3609d036",
   "metadata": {},
   "source": [
    "It is assumed that the directory structure for this dataset is organized as follows\n",
    "\n",
    "```bash\n",
    "jupyter_notebooks/\n",
    "|\n",
    "data_preprocessing/\n",
    "└── 03_wildfire_dataset/\n",
    "    ├── test/\n",
    "    │   ├── fire/\n",
    "    │   │   ├── Both_smoke_and_fire/\n",
    "    │   │   └── Smoke_from_fires/\n",
    "    │   └── nofire/\n",
    "    │       ├── Fire_confounding_elements/\n",
    "    │       ├── Forested_areas_without_confounding_elements/\n",
    "    │       └── Smoke_confounding_elements/\n",
    "    ├── train/\n",
    "    │   ├── fire/\n",
    "    │   │   ├── Both_smoke_and_fire/\n",
    "    │   │   └── Smoke_from_fires/\n",
    "    │   └── nofire/\n",
    "    │       ├── Fire_confounding_elements/\n",
    "    │       ├── Forested_areas_without_confounding_elements/\n",
    "    │       └── Smoke_confounding_elements/\n",
    "    └── val/\n",
    "        ├── fire/\n",
    "        │   ├── Both_smoke_and_fire/\n",
    "        │   └── Smoke_from_fires/\n",
    "        └── nofire/\n",
    "            ├── Fire_confounding_elements/\n",
    "            ├── Forested_areas_without_confounding_elements/\n",
    "            └── Smoke_confounding_elements/\n",
    "```"
   ]
  },
  {
   "cell_type": "markdown",
   "id": "893b191a-6caf-4d28-a6ab-828977d601d3",
   "metadata": {},
   "source": [
    "## Steps\n",
    "\n",
    "In part 1 (`01_EDA_preprocessing_03dataset_part1.ipynb`) we corrected all the images that had incorrect number of channels and we saved a resulting dataframe into `03_image_list_updated.csv`.\n",
    "\n",
    "In this notebook we'll resize all images from their current sizes to 250x250. The top level folder will be `03_wildfire_dataset_250x250`, and the subdirectory structure will mimic that of the original dataset."
   ]
  },
  {
   "cell_type": "markdown",
   "id": "2ab48628-516f-44d8-93f3-12478e5b4b87",
   "metadata": {},
   "source": [
    "# Import Usual Libraries"
   ]
  },
  {
   "cell_type": "code",
   "execution_count": 1,
   "id": "8e21a080-02e6-4dbc-b9fb-b65521e1b454",
   "metadata": {},
   "outputs": [],
   "source": [
    "import numpy as np\n",
    "import pandas as pd\n",
    "import os"
   ]
  },
  {
   "cell_type": "markdown",
   "id": "e309bd90-1534-43bd-8fdc-7505a1acb7a9",
   "metadata": {},
   "source": [
    "## Define Path to Custom Modules"
   ]
  },
  {
   "cell_type": "code",
   "execution_count": 2,
   "id": "446af477-6c87-47ae-ab72-4a3b7dfdc047",
   "metadata": {},
   "outputs": [],
   "source": [
    "import sys\n",
    "sys.path.append('..')"
   ]
  },
  {
   "cell_type": "code",
   "execution_count": 5,
   "id": "b6a01999-5dcd-480e-820f-d01df3278ce6",
   "metadata": {},
   "outputs": [
    {
     "data": {
      "text/plain": [
       "['/Users/rodrigo/anaconda3/envs/pytorch_env/lib/python312.zip',\n",
       " '/Users/rodrigo/anaconda3/envs/pytorch_env/lib/python3.12',\n",
       " '/Users/rodrigo/anaconda3/envs/pytorch_env/lib/python3.12/lib-dynload',\n",
       " '/Users/rodrigo/anaconda3/envs/pytorch_env/lib/python3.12/site-packages',\n",
       " '..']"
      ]
     },
     "execution_count": 5,
     "metadata": {},
     "output_type": "execute_result"
    }
   ],
   "source": [
    "sys.path"
   ]
  },
  {
   "cell_type": "markdown",
   "id": "bef93b13-5ae0-4f4a-9b05-3dc5e6913c1a",
   "metadata": {},
   "source": [
    "## Import Helper Functions"
   ]
  },
  {
   "cell_type": "code",
   "execution_count": 6,
   "id": "9934e6eb-e0ac-44d7-860a-0a33b57f3329",
   "metadata": {},
   "outputs": [],
   "source": [
    "from src.data.dataset_contents import all_subdir_list"
   ]
  },
  {
   "cell_type": "code",
   "execution_count": 7,
   "id": "b1fa2650-1a8d-44e5-a89c-67bcd41634f9",
   "metadata": {},
   "outputs": [
    {
     "name": "stdout",
     "output_type": "stream",
     "text": [
      "Help on function all_subdir_list in module src.data.dataset_contents:\n",
      "\n",
      "all_subdir_list(path_to_dataset, levels)\n",
      "    Function that makes a list of subdirectories in a dataset folder.\n",
      "\n",
      "    Parameters\n",
      "    ----------\n",
      "    path_to_dataset : string\n",
      "        Path (absolute or relative) to contents of image dataset folder.\n",
      "        The dataset is assumed to have the following structure\n",
      "        dataset/\n",
      "            folder1/\n",
      "                subfolder1.1/\n",
      "            folder2/\n",
      "                subfolder2.1/\n",
      "                subfolder2.2/\n",
      "            folder3/\n",
      "\n",
      "    levels : integer\n",
      "        Number of nested levels in the image dataset\n",
      "\n",
      "    Returns\n",
      "    -------\n",
      "    List\n",
      "        Subdirectory list\n",
      "\n"
     ]
    }
   ],
   "source": [
    "help(all_subdir_list)"
   ]
  },
  {
   "cell_type": "code",
   "execution_count": 8,
   "id": "6a01c0a7-de65-46aa-a248-33aa403adf14",
   "metadata": {},
   "outputs": [],
   "source": [
    "from src.data.image_prep import resize_all_images"
   ]
  },
  {
   "cell_type": "code",
   "execution_count": 9,
   "id": "ff3269dc-56b4-48b7-95df-7bbdec6a46c6",
   "metadata": {},
   "outputs": [
    {
     "name": "stdout",
     "output_type": "stream",
     "text": [
      "Help on function resize_all_images in module src.data.image_prep:\n",
      "\n",
      "resize_all_images(path_to_dataset, dir_list, df_all_images, new_height, new_width)\n",
      "    Function to resize all images in a dataset to a new square size\n",
      "    It will create a new directory containing all the resized images accordingly\n",
      "\n",
      "    Parameters\n",
      "    ----------\n",
      "    path_to_dataset : str\n",
      "        Path (absolute or relative) to contents of image dataset folder.\n",
      "        The dataset is assumed to have the following structure\n",
      "        dataset/\n",
      "            folder1/\n",
      "                subfolder1.1/\n",
      "            folder2/\n",
      "                subfolder2.1/\n",
      "                subfolder2.2/\n",
      "            folder3/\n",
      "\n",
      "    dir_list : list[str]\n",
      "        A list of directories generated with `all_subdir_list`\n",
      "\n",
      "    df_all_images : dataframe\n",
      "        A dataframe listing all the images in a datasaet to be resized\n",
      "        It is assumed to have at least the following columns: `item`, `label`,`channels`,`height`,`width`\n",
      "\n",
      "    new_height : int\n",
      "        Resized image height in pixels\n",
      "\n",
      "    new_width : int\n",
      "        Resized image height in pixels\n",
      "\n"
     ]
    }
   ],
   "source": [
    "help(resize_all_images)"
   ]
  },
  {
   "cell_type": "markdown",
   "id": "9fcf6220-7f9c-4497-a998-9a34338e13eb",
   "metadata": {},
   "source": [
    "## Define Path to Dataset"
   ]
  },
  {
   "cell_type": "code",
   "execution_count": 15,
   "id": "91cd446e-37b7-4ab3-abfb-ed50b3a53faa",
   "metadata": {},
   "outputs": [],
   "source": [
    "path_to_dataset = '../data_preprocessing/03_wildfire_dataset/'"
   ]
  },
  {
   "cell_type": "code",
   "execution_count": 16,
   "id": "542605ef-d059-4b36-955f-9a32ab53372a",
   "metadata": {},
   "outputs": [
    {
     "name": "stdout",
     "output_type": "stream",
     "text": [
      "\u001b[1m\u001b[36mtest\u001b[m\u001b[m  \u001b[1m\u001b[36mtrain\u001b[m\u001b[m \u001b[1m\u001b[36mval\u001b[m\u001b[m\n"
     ]
    }
   ],
   "source": [
    "! ls ../data_preprocessing/03_wildfire_dataset/"
   ]
  },
  {
   "cell_type": "markdown",
   "id": "cc015d83-e8d1-4a88-a857-cd0347be3732",
   "metadata": {},
   "source": [
    "Read the image list file we saved in part 1."
   ]
  },
  {
   "cell_type": "code",
   "execution_count": 17,
   "id": "6b684c35-db7f-4829-ab42-1ed676199561",
   "metadata": {},
   "outputs": [
    {
     "data": {
      "text/html": [
       "<div>\n",
       "<style scoped>\n",
       "    .dataframe tbody tr th:only-of-type {\n",
       "        vertical-align: middle;\n",
       "    }\n",
       "\n",
       "    .dataframe tbody tr th {\n",
       "        vertical-align: top;\n",
       "    }\n",
       "\n",
       "    .dataframe thead th {\n",
       "        text-align: right;\n",
       "    }\n",
       "</style>\n",
       "<table border=\"1\" class=\"dataframe\">\n",
       "  <thead>\n",
       "    <tr style=\"text-align: right;\">\n",
       "      <th></th>\n",
       "      <th>label</th>\n",
       "      <th>item</th>\n",
       "      <th>channels</th>\n",
       "      <th>width</th>\n",
       "      <th>height</th>\n",
       "      <th>issues</th>\n",
       "    </tr>\n",
       "  </thead>\n",
       "  <tbody>\n",
       "    <tr>\n",
       "      <th>0</th>\n",
       "      <td>1</td>\n",
       "      <td>./test/fire/Smoke_from_fires/52230132421_efbcf...</td>\n",
       "      <td>3</td>\n",
       "      <td>1280</td>\n",
       "      <td>960</td>\n",
       "      <td>no</td>\n",
       "    </tr>\n",
       "    <tr>\n",
       "      <th>1</th>\n",
       "      <td>1</td>\n",
       "      <td>./test/fire/Smoke_from_fires/50517815722_17ae2...</td>\n",
       "      <td>3</td>\n",
       "      <td>2000</td>\n",
       "      <td>1500</td>\n",
       "      <td>no</td>\n",
       "    </tr>\n",
       "    <tr>\n",
       "      <th>2</th>\n",
       "      <td>1</td>\n",
       "      <td>./test/fire/Smoke_from_fires/41094811384_1382b...</td>\n",
       "      <td>3</td>\n",
       "      <td>6000</td>\n",
       "      <td>4000</td>\n",
       "      <td>no</td>\n",
       "    </tr>\n",
       "    <tr>\n",
       "      <th>3</th>\n",
       "      <td>1</td>\n",
       "      <td>./test/fire/Smoke_from_fires/37342469502_36f0e...</td>\n",
       "      <td>3</td>\n",
       "      <td>2048</td>\n",
       "      <td>1536</td>\n",
       "      <td>no</td>\n",
       "    </tr>\n",
       "    <tr>\n",
       "      <th>4</th>\n",
       "      <td>1</td>\n",
       "      <td>./test/fire/Smoke_from_fires/45922878832_c4755...</td>\n",
       "      <td>3</td>\n",
       "      <td>5727</td>\n",
       "      <td>3222</td>\n",
       "      <td>no</td>\n",
       "    </tr>\n",
       "  </tbody>\n",
       "</table>\n",
       "</div>"
      ],
      "text/plain": [
       "   label                                               item  channels  width  \\\n",
       "0      1  ./test/fire/Smoke_from_fires/52230132421_efbcf...         3   1280   \n",
       "1      1  ./test/fire/Smoke_from_fires/50517815722_17ae2...         3   2000   \n",
       "2      1  ./test/fire/Smoke_from_fires/41094811384_1382b...         3   6000   \n",
       "3      1  ./test/fire/Smoke_from_fires/37342469502_36f0e...         3   2048   \n",
       "4      1  ./test/fire/Smoke_from_fires/45922878832_c4755...         3   5727   \n",
       "\n",
       "   height issues  \n",
       "0     960     no  \n",
       "1    1500     no  \n",
       "2    4000     no  \n",
       "3    1536     no  \n",
       "4    3222     no  "
      ]
     },
     "execution_count": 17,
     "metadata": {},
     "output_type": "execute_result"
    }
   ],
   "source": [
    "df = pd.read_csv('03_image_list_updated.csv')\n",
    "df.head()"
   ]
  },
  {
   "cell_type": "code",
   "execution_count": 13,
   "id": "5cb3d76c-105d-42e0-bb59-272dae46b13f",
   "metadata": {},
   "outputs": [
    {
     "data": {
      "text/plain": [
       "(2699, 6)"
      ]
     },
     "execution_count": 13,
     "metadata": {},
     "output_type": "execute_result"
    }
   ],
   "source": [
    "df.shape"
   ]
  },
  {
   "cell_type": "code",
   "execution_count": 18,
   "id": "e3f22cd0-895e-4f84-b11a-2137e338c537",
   "metadata": {},
   "outputs": [
    {
     "name": "stdout",
     "output_type": "stream",
     "text": [
      "Made a list with 15 directories\n"
     ]
    }
   ],
   "source": [
    "dir_list = all_subdir_list(path_to_dataset,3)"
   ]
  },
  {
   "cell_type": "code",
   "execution_count": 19,
   "id": "8f4d266d-8ac4-44b2-b6cd-c2ae23190f32",
   "metadata": {},
   "outputs": [
    {
     "data": {
      "text/plain": [
       "['./test/fire/Smoke_from_fires',\n",
       " './test/fire/Both_smoke_and_fire',\n",
       " './test/nofire/Forested_areas_without_confounding_elements',\n",
       " './test/nofire/Fire_confounding_elements',\n",
       " './test/nofire/Smoke_confounding_elements',\n",
       " './train/fire/Smoke_from_fires',\n",
       " './train/fire/Both_smoke_and_fire',\n",
       " './train/nofire/Forested_areas_without_confounding_elements',\n",
       " './train/nofire/Fire_confounding_elements',\n",
       " './train/nofire/Smoke_confounding_elements',\n",
       " './val/fire/Smoke_from_fires',\n",
       " './val/fire/Both_smoke_and_fire',\n",
       " './val/nofire/Forested_areas_without_confounding_elements',\n",
       " './val/nofire/Fire_confounding_elements',\n",
       " './val/nofire/Smoke_confounding_elements']"
      ]
     },
     "execution_count": 19,
     "metadata": {},
     "output_type": "execute_result"
    }
   ],
   "source": [
    "dir_list"
   ]
  },
  {
   "cell_type": "markdown",
   "id": "d73ca7fe-b972-41f9-a10a-1eccbe76025d",
   "metadata": {},
   "source": [
    "# Resize Images"
   ]
  },
  {
   "cell_type": "markdown",
   "id": "cb9e5985-b79b-46ca-b888-2ff87093b6c0",
   "metadata": {},
   "source": [
    "We now have defined the following variables to be used\n",
    "- `dir_list`: list of subdirectories in dataset folder\n",
    "- `path_to_dataset`: string with the path to the original dataset\n",
    "- `df`: dataframe with a list of all the 'clean' images"
   ]
  },
  {
   "cell_type": "code",
   "execution_count": 20,
   "id": "8412a367-f54e-44ad-85b9-2910fd55078e",
   "metadata": {},
   "outputs": [
    {
     "name": "stdout",
     "output_type": "stream",
     "text": [
      "\n",
      "Working on:\t ./test/fire/Smoke_from_fires\n",
      "Updating images\n",
      "Moving resized images to ../03_wildfire_dataset_250x250/./test/fire/Smoke_from_fires\n",
      "\n",
      "Working on:\t ./test/fire/Both_smoke_and_fire\n",
      "Updating images\n",
      "Moving resized images to ../03_wildfire_dataset_250x250/./test/fire/Both_smoke_and_fire\n",
      "\n",
      "Working on:\t ./test/nofire/Forested_areas_without_confounding_elements\n",
      "Updating images\n",
      "Moving resized images to ../03_wildfire_dataset_250x250/./test/nofire/Forested_areas_without_confounding_elements\n",
      "\n",
      "Working on:\t ./test/nofire/Fire_confounding_elements\n",
      "Updating images\n",
      "Moving resized images to ../03_wildfire_dataset_250x250/./test/nofire/Fire_confounding_elements\n",
      "\n",
      "Working on:\t ./test/nofire/Smoke_confounding_elements\n",
      "Updating images\n",
      "Moving resized images to ../03_wildfire_dataset_250x250/./test/nofire/Smoke_confounding_elements\n",
      "\n",
      "Working on:\t ./train/fire/Smoke_from_fires\n",
      "Updating images\n"
     ]
    },
    {
     "name": "stderr",
     "output_type": "stream",
     "text": [
      "Invalid SOS parameters for sequential JPEG\n"
     ]
    },
    {
     "name": "stdout",
     "output_type": "stream",
     "text": [
      "Moving resized images to ../03_wildfire_dataset_250x250/./train/fire/Smoke_from_fires\n",
      "\n",
      "Working on:\t ./train/fire/Both_smoke_and_fire\n",
      "Updating images\n"
     ]
    },
    {
     "name": "stderr",
     "output_type": "stream",
     "text": [
      "libpng warning: iCCP: profile 'ICC Profile': 0h: PCS illuminant is not D50\n"
     ]
    },
    {
     "name": "stdout",
     "output_type": "stream",
     "text": [
      "Moving resized images to ../03_wildfire_dataset_250x250/./train/fire/Both_smoke_and_fire\n",
      "\n",
      "Working on:\t ./train/nofire/Forested_areas_without_confounding_elements\n",
      "Updating images\n",
      "Moving resized images to ../03_wildfire_dataset_250x250/./train/nofire/Forested_areas_without_confounding_elements\n",
      "\n",
      "Working on:\t ./train/nofire/Fire_confounding_elements\n",
      "Updating images\n"
     ]
    },
    {
     "name": "stderr",
     "output_type": "stream",
     "text": [
      "Invalid SOS parameters for sequential JPEG\n"
     ]
    },
    {
     "name": "stdout",
     "output_type": "stream",
     "text": [
      "Moving resized images to ../03_wildfire_dataset_250x250/./train/nofire/Fire_confounding_elements\n",
      "\n",
      "Working on:\t ./train/nofire/Smoke_confounding_elements\n",
      "Updating images\n"
     ]
    },
    {
     "name": "stderr",
     "output_type": "stream",
     "text": [
      "libpng warning: iCCP: known incorrect sRGB profile\n"
     ]
    },
    {
     "name": "stdout",
     "output_type": "stream",
     "text": [
      "Moving resized images to ../03_wildfire_dataset_250x250/./train/nofire/Smoke_confounding_elements\n",
      "\n",
      "Working on:\t ./val/fire/Smoke_from_fires\n",
      "Updating images\n",
      "Moving resized images to ../03_wildfire_dataset_250x250/./val/fire/Smoke_from_fires\n",
      "\n",
      "Working on:\t ./val/fire/Both_smoke_and_fire\n",
      "Updating images\n",
      "Moving resized images to ../03_wildfire_dataset_250x250/./val/fire/Both_smoke_and_fire\n",
      "\n",
      "Working on:\t ./val/nofire/Forested_areas_without_confounding_elements\n",
      "Updating images\n",
      "Moving resized images to ../03_wildfire_dataset_250x250/./val/nofire/Forested_areas_without_confounding_elements\n",
      "\n",
      "Working on:\t ./val/nofire/Fire_confounding_elements\n",
      "Updating images\n",
      "Moving resized images to ../03_wildfire_dataset_250x250/./val/nofire/Fire_confounding_elements\n",
      "\n",
      "Working on:\t ./val/nofire/Smoke_confounding_elements\n",
      "Updating images\n",
      "Moving resized images to ../03_wildfire_dataset_250x250/./val/nofire/Smoke_confounding_elements\n"
     ]
    }
   ],
   "source": [
    "resize_all_images(path_to_dataset,dir_list,df,250,250)"
   ]
  },
  {
   "cell_type": "markdown",
   "id": "051eeb92-e89e-431c-b144-4984bcd9ca7e",
   "metadata": {},
   "source": [
    "# Make a List of All Images"
   ]
  },
  {
   "cell_type": "markdown",
   "id": "571e80d2-790b-4bac-b433-e385af73d33e",
   "metadata": {},
   "source": [
    "Once done resizing and moving, we'll make a new dataframe, using one `all_images_list`."
   ]
  },
  {
   "cell_type": "code",
   "execution_count": 21,
   "id": "2de52913-50f2-4cae-89c0-f8c47d04b8fa",
   "metadata": {},
   "outputs": [],
   "source": [
    "from src.data.dataset_contents import all_images_list"
   ]
  },
  {
   "cell_type": "code",
   "execution_count": 22,
   "id": "88176ea7-e8be-4599-b43e-78f8655b63ba",
   "metadata": {},
   "outputs": [
    {
     "name": "stdout",
     "output_type": "stream",
     "text": [
      "Help on function all_images_list in module src.data.dataset_contents:\n",
      "\n",
      "all_images_list(path_to_dataset, directory_list, label_list)\n",
      "    Function that lists all images contained in the subdirectories of a dataset,\n",
      "    opens each one by one, and returns a dataframe containing all image names as well\n",
      "    as their labels and size.\n",
      "\n",
      "    Parameters\n",
      "    ----------\n",
      "    path_to_dataset : string\n",
      "        Path (absolute or relative) to contents of image dataset folder.\n",
      "        The dataset is assumed to have the following structure\n",
      "        dataset/\n",
      "            folder1/\n",
      "                subfolder1.1/\n",
      "            folder2/\n",
      "                subfolder2.1/\n",
      "                subfolder2.2/\n",
      "            folder3/\n",
      "\n",
      "    directory_list : list\n",
      "        List with all the subdirectories contained in the dataset.\n",
      "    label_list : list\n",
      "        List with the numeric categories for each of the directories in `directory_list`\n",
      "\n",
      "    Returns\n",
      "    -------\n",
      "    Dataframe\n",
      "        All the contents of the dataset into a dataframe containing\n",
      "        item name, label, channels, width, height\n",
      "\n"
     ]
    }
   ],
   "source": [
    "help(all_images_list)"
   ]
  },
  {
   "cell_type": "markdown",
   "id": "edb320a7-2570-436e-b9fa-e2aafb870d2a",
   "metadata": {},
   "source": [
    "We defined `dir_list` previously"
   ]
  },
  {
   "cell_type": "code",
   "execution_count": 23,
   "id": "86232a36-53aa-459c-9018-c64ab1e7691b",
   "metadata": {},
   "outputs": [
    {
     "data": {
      "text/plain": [
       "['./test/fire/Smoke_from_fires',\n",
       " './test/fire/Both_smoke_and_fire',\n",
       " './test/nofire/Forested_areas_without_confounding_elements',\n",
       " './test/nofire/Fire_confounding_elements',\n",
       " './test/nofire/Smoke_confounding_elements',\n",
       " './train/fire/Smoke_from_fires',\n",
       " './train/fire/Both_smoke_and_fire',\n",
       " './train/nofire/Forested_areas_without_confounding_elements',\n",
       " './train/nofire/Fire_confounding_elements',\n",
       " './train/nofire/Smoke_confounding_elements',\n",
       " './val/fire/Smoke_from_fires',\n",
       " './val/fire/Both_smoke_and_fire',\n",
       " './val/nofire/Forested_areas_without_confounding_elements',\n",
       " './val/nofire/Fire_confounding_elements',\n",
       " './val/nofire/Smoke_confounding_elements']"
      ]
     },
     "execution_count": 23,
     "metadata": {},
     "output_type": "execute_result"
    }
   ],
   "source": [
    "dir_list"
   ]
  },
  {
   "cell_type": "markdown",
   "id": "1a5b759c-e01b-44e6-9f08-0d8594f35cb0",
   "metadata": {},
   "source": [
    "Next the list of labels: 1 for fire, 0 for no fire."
   ]
  },
  {
   "cell_type": "code",
   "execution_count": 24,
   "id": "03925053-01ad-4c29-a5d6-dd9bbe2d5934",
   "metadata": {},
   "outputs": [],
   "source": [
    "label_list = [1,1,0,0,0,1,1,0,0,0,1,1,0,0,0]"
   ]
  },
  {
   "cell_type": "markdown",
   "id": "98ac936f-bffc-42a8-878d-eb5b8eff0ced",
   "metadata": {},
   "source": [
    "Now the path to the resized dataset"
   ]
  },
  {
   "cell_type": "code",
   "execution_count": 25,
   "id": "6cbc8120-e643-46f8-bf00-c55262267ed0",
   "metadata": {},
   "outputs": [],
   "source": [
    "path_to_resized_dataset = '../data_preprocessing/03_wildfire_dataset_250x250/'"
   ]
  },
  {
   "cell_type": "code",
   "execution_count": 26,
   "id": "49d8e898-f710-4bad-b9b6-197bf6cf76d0",
   "metadata": {},
   "outputs": [
    {
     "name": "stdout",
     "output_type": "stream",
     "text": [
      "Completed list of images\n",
      "Reading from image list\n",
      "Finished reviewing all images\n"
     ]
    }
   ],
   "source": [
    "new_df = all_images_list(path_to_resized_dataset,dir_list,label_list)"
   ]
  },
  {
   "cell_type": "markdown",
   "id": "e858bde9-9cab-4db5-9917-717a4953ff61",
   "metadata": {},
   "source": [
    "## Review DataFrame Contents\n",
    "Just to make sure everything looks correct."
   ]
  },
  {
   "cell_type": "code",
   "execution_count": 27,
   "id": "edeb3da2-320d-46c1-97c0-e948d19ecd63",
   "metadata": {},
   "outputs": [
    {
     "data": {
      "text/html": [
       "<div>\n",
       "<style scoped>\n",
       "    .dataframe tbody tr th:only-of-type {\n",
       "        vertical-align: middle;\n",
       "    }\n",
       "\n",
       "    .dataframe tbody tr th {\n",
       "        vertical-align: top;\n",
       "    }\n",
       "\n",
       "    .dataframe thead th {\n",
       "        text-align: right;\n",
       "    }\n",
       "</style>\n",
       "<table border=\"1\" class=\"dataframe\">\n",
       "  <thead>\n",
       "    <tr style=\"text-align: right;\">\n",
       "      <th></th>\n",
       "      <th>label</th>\n",
       "      <th>item</th>\n",
       "      <th>channels</th>\n",
       "      <th>width</th>\n",
       "      <th>height</th>\n",
       "      <th>issues</th>\n",
       "    </tr>\n",
       "  </thead>\n",
       "  <tbody>\n",
       "    <tr>\n",
       "      <th>0</th>\n",
       "      <td>1</td>\n",
       "      <td>./test/fire/Smoke_from_fires/37342469502_36f0e...</td>\n",
       "      <td>3</td>\n",
       "      <td>250</td>\n",
       "      <td>250</td>\n",
       "      <td>no</td>\n",
       "    </tr>\n",
       "    <tr>\n",
       "      <th>1</th>\n",
       "      <td>1</td>\n",
       "      <td>./test/fire/Smoke_from_fires/28347651877_ce21e...</td>\n",
       "      <td>3</td>\n",
       "      <td>250</td>\n",
       "      <td>250</td>\n",
       "      <td>no</td>\n",
       "    </tr>\n",
       "    <tr>\n",
       "      <th>2</th>\n",
       "      <td>1</td>\n",
       "      <td>./test/fire/Smoke_from_fires/50380847162_24a48...</td>\n",
       "      <td>3</td>\n",
       "      <td>250</td>\n",
       "      <td>250</td>\n",
       "      <td>no</td>\n",
       "    </tr>\n",
       "    <tr>\n",
       "      <th>3</th>\n",
       "      <td>1</td>\n",
       "      <td>./test/fire/Smoke_from_fires/26131736898_9e6a8...</td>\n",
       "      <td>3</td>\n",
       "      <td>250</td>\n",
       "      <td>250</td>\n",
       "      <td>no</td>\n",
       "    </tr>\n",
       "    <tr>\n",
       "      <th>4</th>\n",
       "      <td>1</td>\n",
       "      <td>./test/fire/Smoke_from_fires/30227808988_2cd8f...</td>\n",
       "      <td>3</td>\n",
       "      <td>250</td>\n",
       "      <td>250</td>\n",
       "      <td>no</td>\n",
       "    </tr>\n",
       "  </tbody>\n",
       "</table>\n",
       "</div>"
      ],
      "text/plain": [
       "   label                                               item  channels  width  \\\n",
       "0      1  ./test/fire/Smoke_from_fires/37342469502_36f0e...         3    250   \n",
       "1      1  ./test/fire/Smoke_from_fires/28347651877_ce21e...         3    250   \n",
       "2      1  ./test/fire/Smoke_from_fires/50380847162_24a48...         3    250   \n",
       "3      1  ./test/fire/Smoke_from_fires/26131736898_9e6a8...         3    250   \n",
       "4      1  ./test/fire/Smoke_from_fires/30227808988_2cd8f...         3    250   \n",
       "\n",
       "   height issues  \n",
       "0     250     no  \n",
       "1     250     no  \n",
       "2     250     no  \n",
       "3     250     no  \n",
       "4     250     no  "
      ]
     },
     "execution_count": 27,
     "metadata": {},
     "output_type": "execute_result"
    }
   ],
   "source": [
    "new_df.head()"
   ]
  },
  {
   "cell_type": "code",
   "execution_count": 28,
   "id": "51205333-9b8e-4141-8669-63a0939be578",
   "metadata": {},
   "outputs": [
    {
     "data": {
      "text/html": [
       "<div>\n",
       "<style scoped>\n",
       "    .dataframe tbody tr th:only-of-type {\n",
       "        vertical-align: middle;\n",
       "    }\n",
       "\n",
       "    .dataframe tbody tr th {\n",
       "        vertical-align: top;\n",
       "    }\n",
       "\n",
       "    .dataframe thead th {\n",
       "        text-align: right;\n",
       "    }\n",
       "</style>\n",
       "<table border=\"1\" class=\"dataframe\">\n",
       "  <thead>\n",
       "    <tr style=\"text-align: right;\">\n",
       "      <th></th>\n",
       "      <th>label</th>\n",
       "      <th>item</th>\n",
       "      <th>channels</th>\n",
       "      <th>width</th>\n",
       "      <th>height</th>\n",
       "      <th>issues</th>\n",
       "    </tr>\n",
       "  </thead>\n",
       "  <tbody>\n",
       "  </tbody>\n",
       "</table>\n",
       "</div>"
      ],
      "text/plain": [
       "Empty DataFrame\n",
       "Columns: [label, item, channels, width, height, issues]\n",
       "Index: []"
      ]
     },
     "execution_count": 28,
     "metadata": {},
     "output_type": "execute_result"
    }
   ],
   "source": [
    "new_df.query('width != 250')"
   ]
  },
  {
   "cell_type": "code",
   "execution_count": 29,
   "id": "4fbc365b-3746-462c-af8f-6b879ef26393",
   "metadata": {},
   "outputs": [
    {
     "data": {
      "text/html": [
       "<div>\n",
       "<style scoped>\n",
       "    .dataframe tbody tr th:only-of-type {\n",
       "        vertical-align: middle;\n",
       "    }\n",
       "\n",
       "    .dataframe tbody tr th {\n",
       "        vertical-align: top;\n",
       "    }\n",
       "\n",
       "    .dataframe thead th {\n",
       "        text-align: right;\n",
       "    }\n",
       "</style>\n",
       "<table border=\"1\" class=\"dataframe\">\n",
       "  <thead>\n",
       "    <tr style=\"text-align: right;\">\n",
       "      <th></th>\n",
       "      <th>label</th>\n",
       "      <th>item</th>\n",
       "      <th>channels</th>\n",
       "      <th>width</th>\n",
       "      <th>height</th>\n",
       "      <th>issues</th>\n",
       "    </tr>\n",
       "  </thead>\n",
       "  <tbody>\n",
       "  </tbody>\n",
       "</table>\n",
       "</div>"
      ],
      "text/plain": [
       "Empty DataFrame\n",
       "Columns: [label, item, channels, width, height, issues]\n",
       "Index: []"
      ]
     },
     "execution_count": 29,
     "metadata": {},
     "output_type": "execute_result"
    }
   ],
   "source": [
    "new_df.query('height != 250')"
   ]
  },
  {
   "cell_type": "code",
   "execution_count": 30,
   "id": "981556d9-9db3-4dbb-9e95-2fcea6df6589",
   "metadata": {},
   "outputs": [
    {
     "data": {
      "text/plain": [
       "(2699, 6)"
      ]
     },
     "execution_count": 30,
     "metadata": {},
     "output_type": "execute_result"
    }
   ],
   "source": [
    "new_df.shape"
   ]
  },
  {
   "cell_type": "code",
   "execution_count": 31,
   "id": "151d5f77-b71f-4f31-81d2-a5305461488f",
   "metadata": {},
   "outputs": [
    {
     "data": {
      "text/html": [
       "<div>\n",
       "<style scoped>\n",
       "    .dataframe tbody tr th:only-of-type {\n",
       "        vertical-align: middle;\n",
       "    }\n",
       "\n",
       "    .dataframe tbody tr th {\n",
       "        vertical-align: top;\n",
       "    }\n",
       "\n",
       "    .dataframe thead th {\n",
       "        text-align: right;\n",
       "    }\n",
       "</style>\n",
       "<table border=\"1\" class=\"dataframe\">\n",
       "  <thead>\n",
       "    <tr style=\"text-align: right;\">\n",
       "      <th></th>\n",
       "      <th>label</th>\n",
       "      <th>item</th>\n",
       "      <th>channels</th>\n",
       "      <th>width</th>\n",
       "      <th>height</th>\n",
       "      <th>issues</th>\n",
       "    </tr>\n",
       "  </thead>\n",
       "  <tbody>\n",
       "  </tbody>\n",
       "</table>\n",
       "</div>"
      ],
      "text/plain": [
       "Empty DataFrame\n",
       "Columns: [label, item, channels, width, height, issues]\n",
       "Index: []"
      ]
     },
     "execution_count": 31,
     "metadata": {},
     "output_type": "execute_result"
    }
   ],
   "source": [
    "new_df.query('channels !=3')"
   ]
  },
  {
   "cell_type": "markdown",
   "id": "f04256ee-d6a2-4a2c-a0e5-c7fca99416c1",
   "metadata": {},
   "source": [
    "# Save Annotations File"
   ]
  },
  {
   "cell_type": "markdown",
   "id": "bd38954d-aa91-4e51-ae39-026e5cabe9b5",
   "metadata": {},
   "source": [
    "Lastly, we have to save `new_df` into an annotation files, suitable for PyTorch. In total there will be 3 files:\n",
    "- train\n",
    "- validation\n",
    "- test"
   ]
  },
  {
   "cell_type": "code",
   "execution_count": 32,
   "id": "30b4b9a2-b924-462c-ae3d-7a5f4703ef1b",
   "metadata": {},
   "outputs": [],
   "source": [
    "train_filter = new_df['item'].str.contains('/train')\n",
    "val_filter = new_df['item'].str.contains('/val')\n",
    "test_filter = new_df['item'].str.contains('/test')"
   ]
  },
  {
   "cell_type": "code",
   "execution_count": 33,
   "id": "99c7ac86-87a8-4918-835a-c5389fca90c3",
   "metadata": {},
   "outputs": [
    {
     "name": "stdout",
     "output_type": "stream",
     "text": [
      "Number of images:\n",
      "train 1887\n",
      "val 402\n",
      "test 410\n"
     ]
    }
   ],
   "source": [
    "print('Number of images:')\n",
    "print('train',train_filter.sum())\n",
    "print('val',val_filter.sum())\n",
    "print('test',test_filter.sum())"
   ]
  },
  {
   "cell_type": "code",
   "execution_count": 34,
   "id": "137ecb6e-1fe3-49e9-8534-254898dd141c",
   "metadata": {},
   "outputs": [
    {
     "data": {
      "text/plain": [
       "2699"
      ]
     },
     "execution_count": 34,
     "metadata": {},
     "output_type": "execute_result"
    }
   ],
   "source": [
    "410+402+1887"
   ]
  },
  {
   "cell_type": "code",
   "execution_count": 35,
   "id": "1df475b9-9faa-42cc-81ab-095647ceaaa8",
   "metadata": {},
   "outputs": [
    {
     "data": {
      "text/plain": [
       "(2699, 6)"
      ]
     },
     "execution_count": 35,
     "metadata": {},
     "output_type": "execute_result"
    }
   ],
   "source": [
    "new_df.shape"
   ]
  },
  {
   "cell_type": "markdown",
   "id": "2d6adbe1-5034-41c4-b1dc-016529c5d996",
   "metadata": {},
   "source": [
    "All numbers add up correctly."
   ]
  },
  {
   "cell_type": "code",
   "execution_count": 36,
   "id": "19b5e64a-fe89-4ef7-9e84-2efd7a77ead8",
   "metadata": {},
   "outputs": [
    {
     "data": {
      "text/html": [
       "<div>\n",
       "<style scoped>\n",
       "    .dataframe tbody tr th:only-of-type {\n",
       "        vertical-align: middle;\n",
       "    }\n",
       "\n",
       "    .dataframe tbody tr th {\n",
       "        vertical-align: top;\n",
       "    }\n",
       "\n",
       "    .dataframe thead th {\n",
       "        text-align: right;\n",
       "    }\n",
       "</style>\n",
       "<table border=\"1\" class=\"dataframe\">\n",
       "  <thead>\n",
       "    <tr style=\"text-align: right;\">\n",
       "      <th></th>\n",
       "      <th>item</th>\n",
       "      <th>label</th>\n",
       "    </tr>\n",
       "  </thead>\n",
       "  <tbody>\n",
       "    <tr>\n",
       "      <th>410</th>\n",
       "      <td>./train/fire/Smoke_from_fires/malachi-brooks--...</td>\n",
       "      <td>1</td>\n",
       "    </tr>\n",
       "    <tr>\n",
       "      <th>411</th>\n",
       "      <td>./train/fire/Smoke_from_fires/52442599185_acbd...</td>\n",
       "      <td>1</td>\n",
       "    </tr>\n",
       "    <tr>\n",
       "      <th>412</th>\n",
       "      <td>./train/fire/Smoke_from_fires/35666924341_c69e...</td>\n",
       "      <td>1</td>\n",
       "    </tr>\n",
       "    <tr>\n",
       "      <th>413</th>\n",
       "      <td>./train/fire/Smoke_from_fires/52295601315_39ff...</td>\n",
       "      <td>1</td>\n",
       "    </tr>\n",
       "    <tr>\n",
       "      <th>414</th>\n",
       "      <td>./train/fire/Smoke_from_fires/33607918741_a241...</td>\n",
       "      <td>1</td>\n",
       "    </tr>\n",
       "  </tbody>\n",
       "</table>\n",
       "</div>"
      ],
      "text/plain": [
       "                                                  item  label\n",
       "410  ./train/fire/Smoke_from_fires/malachi-brooks--...      1\n",
       "411  ./train/fire/Smoke_from_fires/52442599185_acbd...      1\n",
       "412  ./train/fire/Smoke_from_fires/35666924341_c69e...      1\n",
       "413  ./train/fire/Smoke_from_fires/52295601315_39ff...      1\n",
       "414  ./train/fire/Smoke_from_fires/33607918741_a241...      1"
      ]
     },
     "execution_count": 36,
     "metadata": {},
     "output_type": "execute_result"
    }
   ],
   "source": [
    "train_df = new_df.loc[train_filter,['item','label']]\n",
    "train_df.head()"
   ]
  },
  {
   "cell_type": "code",
   "execution_count": 37,
   "id": "4eea82ed-aade-41e6-818c-364996106162",
   "metadata": {},
   "outputs": [],
   "source": [
    "train_df.to_csv('labels_03_train_dataset.csv', index = False, header = False)"
   ]
  },
  {
   "cell_type": "code",
   "execution_count": 38,
   "id": "d302a858-3bda-46a7-bf20-79cec80fce83",
   "metadata": {},
   "outputs": [],
   "source": [
    "val_df = new_df.loc[val_filter,['item','label']]\n",
    "val_df.to_csv('labels_03_val_dataset.csv', index = False, header = False)"
   ]
  },
  {
   "cell_type": "code",
   "execution_count": 39,
   "id": "711ce5f0-020b-415c-935a-bd81f4b91907",
   "metadata": {},
   "outputs": [],
   "source": [
    "test_df = new_df.loc[test_filter,['item','label']]\n",
    "test_df.to_csv('labels_03_test_dataset.csv', index = False, header = False)"
   ]
  },
  {
   "cell_type": "code",
   "execution_count": 40,
   "id": "a59203e3-f388-4580-856a-0d4e5124da45",
   "metadata": {},
   "outputs": [
    {
     "name": "stdout",
     "output_type": "stream",
     "text": [
      "labels_03_test_dataset.csv  labels_03_val_dataset.csv\n",
      "labels_03_train_dataset.csv\n"
     ]
    }
   ],
   "source": [
    "! ls labels_03_*.csv"
   ]
  },
  {
   "cell_type": "code",
   "execution_count": 41,
   "id": "7933b79f-5c8c-4ce5-94f9-f032319788f3",
   "metadata": {},
   "outputs": [],
   "source": [
    "! mv labels_03_*.csv ../data_preprocessing/03_wildfire_dataset_250x250/"
   ]
  },
  {
   "cell_type": "code",
   "execution_count": 42,
   "id": "7d0c3b55-9597-4c5f-842d-7c5ca0e559e4",
   "metadata": {},
   "outputs": [
    {
     "name": "stdout",
     "output_type": "stream",
     "text": [
      "zsh:1: no matches found: labels_03_*.csv\n"
     ]
    }
   ],
   "source": [
    "! ls labels_03_*.csv"
   ]
  }
 ],
 "metadata": {
  "kernelspec": {
   "display_name": "pytorch_env_kernel",
   "language": "python",
   "name": "pytorch_env_kernel"
  },
  "language_info": {
   "codemirror_mode": {
    "name": "ipython",
    "version": 3
   },
   "file_extension": ".py",
   "mimetype": "text/x-python",
   "name": "python",
   "nbconvert_exporter": "python",
   "pygments_lexer": "ipython3",
   "version": "3.12.2"
  },
  "toc-autonumbering": false
 },
 "nbformat": 4,
 "nbformat_minor": 5
}
