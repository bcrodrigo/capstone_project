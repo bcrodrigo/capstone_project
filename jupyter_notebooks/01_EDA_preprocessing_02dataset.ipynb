{
 "cells": [
  {
   "cell_type": "markdown",
   "id": "48bcf8d4-a030-439f-88f3-f08347a421f9",
   "metadata": {},
   "source": [
    "01_EDA_preprocessing_02dataset.ipynb"
   ]
  },
  {
   "cell_type": "markdown",
   "id": "ec42c636-9cf7-4424-95f9-bcbd7bf53108",
   "metadata": {},
   "source": [
    "# Preprocessing and EDA on 02_deepfire_dataset\n",
    "\n",
    "Rodrigo Becerra Carrillo\n",
    "\n",
    "https://github.com/bcrodrigo"
   ]
  },
  {
   "cell_type": "markdown",
   "id": "de4f0d1e-09b0-4b30-8787-7e0bae582303",
   "metadata": {},
   "source": [
    "# Introduction"
   ]
  },
  {
   "cell_type": "markdown",
   "id": "b696507c-9129-436b-aa18-806a850661c3",
   "metadata": {},
   "source": [
    "In this notebook I'll perform preprocessing and EDA on the following dataset:\n",
    "\n",
    "- `02_deepfire_dataset` \n",
    "\n",
    "**Source:** https://www.kaggle.com/datasets/alik05/forest-fire-dataset"
   ]
  },
  {
   "cell_type": "markdown",
   "id": "dda4cbc9-5c84-4e17-912b-49cd3609d036",
   "metadata": {
    "jp-MarkdownHeadingCollapsed": true
   },
   "source": [
    "## Directory Structure\n",
    "\n",
    "It is assumed that the directory structure for this dataset is organized as follows. Notice that I renamed the top level folder (`02_deepfire_dataset`) and created two new folders for the images in the `testing` folder.\n",
    "\n",
    "```bash\n",
    ".\n",
    "├── data_preprocessing/\n",
    "│   └── 02_deepfire_dataset/\n",
    "│       ├── testing/\n",
    "│       │   ├── fire/\n",
    "│       │   └── nofire/\n",
    "│       └── training/\n",
    "│           ├── fire/\n",
    "│           └── nofire/\n",
    "│\n",
    "├── jupyter_notebooks/\n",
    "```\n",
    "where the `jupyter_notebooks/` folder contains this notebook."
   ]
  },
  {
   "cell_type": "markdown",
   "id": "893b191a-6caf-4d28-a6ab-828977d601d3",
   "metadata": {},
   "source": [
    "## Steps\n",
    "We will do the following for each of the `training/` and `testing/` directories\n",
    "1. Create a dataframe listing all images, labels, channels, width and height\n",
    "2. Review that all images are the correct number of channels (3) and have the same width and height (250 x 250)\n",
    "3. Crop or replace images as needed\n",
    "4. Update dataframe accordingly\n",
    "5. Save a .csv file with the annotation file to be used by PyTorch\n",
    "\n",
    "Note the final csv should be used by the dataloader on a separate notebook"
   ]
  },
  {
   "cell_type": "markdown",
   "id": "539d0e42-5d4e-48b2-adc1-835960a1eecb",
   "metadata": {},
   "source": [
    "# Import Usual Libraries"
   ]
  },
  {
   "cell_type": "code",
   "execution_count": 1,
   "id": "07df278e-79fb-468c-9b7f-faac89ce1536",
   "metadata": {},
   "outputs": [],
   "source": [
    "import numpy as np\n",
    "import pandas as pd\n",
    "import os"
   ]
  },
  {
   "cell_type": "markdown",
   "id": "338b1f03-9f18-4df2-9cdd-bfbe7323f4b6",
   "metadata": {},
   "source": [
    "## Define Path to Custom Modules"
   ]
  },
  {
   "cell_type": "code",
   "execution_count": 2,
   "id": "5310020a-5a5c-4745-8fa7-349f61371b3c",
   "metadata": {},
   "outputs": [],
   "source": [
    "import sys\n",
    "sys.path.append('..')"
   ]
  },
  {
   "cell_type": "code",
   "execution_count": 5,
   "id": "9ccec33a-75aa-422a-9f3a-89cab10d7976",
   "metadata": {},
   "outputs": [
    {
     "data": {
      "text/plain": [
       "['/Users/rodrigo/anaconda3/envs/pytorch_env/lib/python312.zip',\n",
       " '/Users/rodrigo/anaconda3/envs/pytorch_env/lib/python3.12',\n",
       " '/Users/rodrigo/anaconda3/envs/pytorch_env/lib/python3.12/lib-dynload',\n",
       " '/Users/rodrigo/anaconda3/envs/pytorch_env/lib/python3.12/site-packages',\n",
       " '..']"
      ]
     },
     "execution_count": 5,
     "metadata": {},
     "output_type": "execute_result"
    }
   ],
   "source": [
    "sys.path"
   ]
  },
  {
   "cell_type": "markdown",
   "id": "1a470054-d300-466b-ae10-e691c6f51fd7",
   "metadata": {},
   "source": [
    "## Import Helper Functions"
   ]
  },
  {
   "cell_type": "code",
   "execution_count": 6,
   "id": "88b60e5e-da03-435c-822d-757be825d5e0",
   "metadata": {},
   "outputs": [],
   "source": [
    "from src.data.dataset_contents import all_subdir_list"
   ]
  },
  {
   "cell_type": "code",
   "execution_count": 29,
   "id": "27df3085-e47a-4038-87da-016b0c0ccb02",
   "metadata": {},
   "outputs": [
    {
     "name": "stdout",
     "output_type": "stream",
     "text": [
      "Help on function all_subdir_list in module src.data.dataset_contents:\n",
      "\n",
      "all_subdir_list(path_to_dataset, levels)\n",
      "    Function that makes a list of subdirectories in a dataset folder.\n",
      "\n",
      "    Parameters\n",
      "    ----------\n",
      "    path_to_dataset : string\n",
      "        Path (absolute or relative) to contents of image dataset folder.\n",
      "        The dataset is assumed to have the following structure\n",
      "        dataset/\n",
      "            folder1/\n",
      "                subfolder1.1/\n",
      "            folder2/\n",
      "                subfolder2.1/\n",
      "                subfolder2.2/\n",
      "            folder3/\n",
      "\n",
      "    levels : integer\n",
      "        Number of nested levels in the image dataset\n",
      "\n",
      "    Returns\n",
      "    -------\n",
      "    List\n",
      "        Subdirectory list\n",
      "\n"
     ]
    }
   ],
   "source": [
    "help(all_subdir_list)"
   ]
  },
  {
   "cell_type": "code",
   "execution_count": 8,
   "id": "5d1cce71-9686-4421-97f8-c789da8d986a",
   "metadata": {},
   "outputs": [],
   "source": [
    "from src.data.dataset_contents import all_images_list"
   ]
  },
  {
   "cell_type": "code",
   "execution_count": 9,
   "id": "79bfc762-42ee-41a3-b713-a5065e02cab8",
   "metadata": {},
   "outputs": [
    {
     "name": "stdout",
     "output_type": "stream",
     "text": [
      "Help on function all_images_list in module src.data.dataset_contents:\n",
      "\n",
      "all_images_list(path_to_dataset, directory_list, label_list)\n",
      "    Function that lists all images contained in the subdirectories of a dataset,\n",
      "    opens each one by one, and returns a dataframe containing all image names as well\n",
      "    as their labels and size.\n",
      "\n",
      "    Parameters\n",
      "    ----------\n",
      "    path_to_dataset : string\n",
      "        Path (absolute or relative) to contents of image dataset folder.\n",
      "        The dataset is assumed to have the following structure\n",
      "        dataset/\n",
      "            folder1/\n",
      "                subfolder1.1/\n",
      "            folder2/\n",
      "                subfolder2.1/\n",
      "                subfolder2.2/\n",
      "            folder3/\n",
      "\n",
      "    directory_list : list\n",
      "        List with all the subdirectories contained in the dataset.\n",
      "    label_list : list\n",
      "        List with the numeric categories for each of the directories in `directory_list`\n",
      "\n",
      "    Returns\n",
      "    -------\n",
      "    Dataframe\n",
      "        All the contents of the dataset into a dataframe containing\n",
      "        item name, label, channels, width, height\n",
      "\n"
     ]
    }
   ],
   "source": [
    "help(all_images_list)"
   ]
  },
  {
   "cell_type": "markdown",
   "id": "185f4fb7-10cd-47a2-8dcf-e446897a9299",
   "metadata": {},
   "source": [
    "## Define Path to Dataset"
   ]
  },
  {
   "cell_type": "code",
   "execution_count": 10,
   "id": "44d8e8c9-19ee-4956-984d-92ff1cccdbb5",
   "metadata": {},
   "outputs": [],
   "source": [
    "path_to_dataset = '../data_preprocessing/02_deepfire_dataset/'"
   ]
  },
  {
   "cell_type": "code",
   "execution_count": 11,
   "id": "5d486639-be40-4bab-9247-ceaa9af01910",
   "metadata": {},
   "outputs": [
    {
     "name": "stdout",
     "output_type": "stream",
     "text": [
      "\u001b[1m\u001b[36mtesting\u001b[m\u001b[m  \u001b[1m\u001b[36mtraining\u001b[m\u001b[m\n"
     ]
    }
   ],
   "source": [
    "! ls ../data_preprocessing/02_deepfire_dataset/"
   ]
  },
  {
   "cell_type": "code",
   "execution_count": 12,
   "id": "e23655b3-beb7-4422-aeec-c368221f4136",
   "metadata": {},
   "outputs": [
    {
     "name": "stdout",
     "output_type": "stream",
     "text": [
      "Made a list with 4 directories\n"
     ]
    },
    {
     "data": {
      "text/plain": [
       "['./training/fire', './training/nofire', './testing/fire', './testing/nofire']"
      ]
     },
     "execution_count": 12,
     "metadata": {},
     "output_type": "execute_result"
    }
   ],
   "source": [
    "dir_list = all_subdir_list(path_to_dataset,2)\n",
    "dir_list"
   ]
  },
  {
   "cell_type": "markdown",
   "id": "cd6e0282-0c3d-4418-9375-03331c2ae1c3",
   "metadata": {},
   "source": [
    "Now let's make a list with the labels matching the elements of `dir_list`, note 'fire' is labelled as 1 and 'nofire' as 0."
   ]
  },
  {
   "cell_type": "code",
   "execution_count": 13,
   "id": "630d37fa-1513-43b3-963c-80d4da98a9cc",
   "metadata": {},
   "outputs": [],
   "source": [
    "label_list = [1,0,1,0]"
   ]
  },
  {
   "cell_type": "code",
   "execution_count": 14,
   "id": "4dcec3b8-f575-4f9b-840a-823d6d9d686f",
   "metadata": {},
   "outputs": [
    {
     "name": "stdout",
     "output_type": "stream",
     "text": [
      "Completed list of images\n",
      "Reading from image list\n",
      "Finished reviewing all images\n"
     ]
    }
   ],
   "source": [
    "df = all_images_list(path_to_dataset,dir_list,label_list)"
   ]
  },
  {
   "cell_type": "code",
   "execution_count": 15,
   "id": "3b585f64-68da-4f53-a10f-6b8f6998f4fd",
   "metadata": {},
   "outputs": [
    {
     "data": {
      "text/html": [
       "<div>\n",
       "<style scoped>\n",
       "    .dataframe tbody tr th:only-of-type {\n",
       "        vertical-align: middle;\n",
       "    }\n",
       "\n",
       "    .dataframe tbody tr th {\n",
       "        vertical-align: top;\n",
       "    }\n",
       "\n",
       "    .dataframe thead th {\n",
       "        text-align: right;\n",
       "    }\n",
       "</style>\n",
       "<table border=\"1\" class=\"dataframe\">\n",
       "  <thead>\n",
       "    <tr style=\"text-align: right;\">\n",
       "      <th></th>\n",
       "      <th>label</th>\n",
       "      <th>item</th>\n",
       "      <th>channels</th>\n",
       "      <th>width</th>\n",
       "      <th>height</th>\n",
       "      <th>issues</th>\n",
       "    </tr>\n",
       "  </thead>\n",
       "  <tbody>\n",
       "    <tr>\n",
       "      <th>0</th>\n",
       "      <td>1</td>\n",
       "      <td>./training/fire/fire_0489.jpg</td>\n",
       "      <td>3</td>\n",
       "      <td>250</td>\n",
       "      <td>250</td>\n",
       "      <td>no</td>\n",
       "    </tr>\n",
       "    <tr>\n",
       "      <th>1</th>\n",
       "      <td>1</td>\n",
       "      <td>./training/fire/fire_0338.jpg</td>\n",
       "      <td>3</td>\n",
       "      <td>250</td>\n",
       "      <td>250</td>\n",
       "      <td>no</td>\n",
       "    </tr>\n",
       "    <tr>\n",
       "      <th>2</th>\n",
       "      <td>1</td>\n",
       "      <td>./training/fire/fire_0310.jpg</td>\n",
       "      <td>3</td>\n",
       "      <td>250</td>\n",
       "      <td>250</td>\n",
       "      <td>no</td>\n",
       "    </tr>\n",
       "    <tr>\n",
       "      <th>3</th>\n",
       "      <td>1</td>\n",
       "      <td>./training/fire/fire_0476.jpg</td>\n",
       "      <td>3</td>\n",
       "      <td>250</td>\n",
       "      <td>250</td>\n",
       "      <td>no</td>\n",
       "    </tr>\n",
       "    <tr>\n",
       "      <th>4</th>\n",
       "      <td>1</td>\n",
       "      <td>./training/fire/fire_0462.jpg</td>\n",
       "      <td>3</td>\n",
       "      <td>250</td>\n",
       "      <td>250</td>\n",
       "      <td>no</td>\n",
       "    </tr>\n",
       "  </tbody>\n",
       "</table>\n",
       "</div>"
      ],
      "text/plain": [
       "   label                           item  channels  width  height issues\n",
       "0      1  ./training/fire/fire_0489.jpg         3    250     250     no\n",
       "1      1  ./training/fire/fire_0338.jpg         3    250     250     no\n",
       "2      1  ./training/fire/fire_0310.jpg         3    250     250     no\n",
       "3      1  ./training/fire/fire_0476.jpg         3    250     250     no\n",
       "4      1  ./training/fire/fire_0462.jpg         3    250     250     no"
      ]
     },
     "execution_count": 15,
     "metadata": {},
     "output_type": "execute_result"
    }
   ],
   "source": [
    "df.head()"
   ]
  },
  {
   "cell_type": "code",
   "execution_count": 16,
   "id": "1b65ea6d-5278-41e4-8ee2-e663b015a333",
   "metadata": {},
   "outputs": [
    {
     "data": {
      "text/plain": [
       "(1900, 6)"
      ]
     },
     "execution_count": 16,
     "metadata": {},
     "output_type": "execute_result"
    }
   ],
   "source": [
    "df.shape"
   ]
  },
  {
   "cell_type": "code",
   "execution_count": 17,
   "id": "8170f079-6908-4996-ad44-745a75149862",
   "metadata": {},
   "outputs": [
    {
     "data": {
      "text/plain": [
       "0"
      ]
     },
     "execution_count": 17,
     "metadata": {},
     "output_type": "execute_result"
    }
   ],
   "source": [
    "(df['issues'] == 'yes').sum()"
   ]
  },
  {
   "cell_type": "markdown",
   "id": "a2ef23f6-eded-4fbb-b99e-c7e9eca95f9e",
   "metadata": {},
   "source": [
    "Note that there were no issues while reading the images. Let's now take a look at the items that have incorrect number of channels or dimensions"
   ]
  },
  {
   "cell_type": "code",
   "execution_count": 18,
   "id": "ba6b3dd1-5df7-4564-afc6-0f76b99a73a1",
   "metadata": {},
   "outputs": [
    {
     "data": {
      "text/html": [
       "<div>\n",
       "<style scoped>\n",
       "    .dataframe tbody tr th:only-of-type {\n",
       "        vertical-align: middle;\n",
       "    }\n",
       "\n",
       "    .dataframe tbody tr th {\n",
       "        vertical-align: top;\n",
       "    }\n",
       "\n",
       "    .dataframe thead th {\n",
       "        text-align: right;\n",
       "    }\n",
       "</style>\n",
       "<table border=\"1\" class=\"dataframe\">\n",
       "  <thead>\n",
       "    <tr style=\"text-align: right;\">\n",
       "      <th></th>\n",
       "      <th>label</th>\n",
       "      <th>item</th>\n",
       "      <th>channels</th>\n",
       "      <th>width</th>\n",
       "      <th>height</th>\n",
       "      <th>issues</th>\n",
       "    </tr>\n",
       "  </thead>\n",
       "  <tbody>\n",
       "  </tbody>\n",
       "</table>\n",
       "</div>"
      ],
      "text/plain": [
       "Empty DataFrame\n",
       "Columns: [label, item, channels, width, height, issues]\n",
       "Index: []"
      ]
     },
     "execution_count": 18,
     "metadata": {},
     "output_type": "execute_result"
    }
   ],
   "source": [
    "df.query('channels != 3')"
   ]
  },
  {
   "cell_type": "code",
   "execution_count": 19,
   "id": "552b1cec-1f45-49f7-8cb9-13daeb0d210f",
   "metadata": {},
   "outputs": [
    {
     "data": {
      "text/html": [
       "<div>\n",
       "<style scoped>\n",
       "    .dataframe tbody tr th:only-of-type {\n",
       "        vertical-align: middle;\n",
       "    }\n",
       "\n",
       "    .dataframe tbody tr th {\n",
       "        vertical-align: top;\n",
       "    }\n",
       "\n",
       "    .dataframe thead th {\n",
       "        text-align: right;\n",
       "    }\n",
       "</style>\n",
       "<table border=\"1\" class=\"dataframe\">\n",
       "  <thead>\n",
       "    <tr style=\"text-align: right;\">\n",
       "      <th></th>\n",
       "      <th>label</th>\n",
       "      <th>item</th>\n",
       "      <th>channels</th>\n",
       "      <th>width</th>\n",
       "      <th>height</th>\n",
       "      <th>issues</th>\n",
       "    </tr>\n",
       "  </thead>\n",
       "  <tbody>\n",
       "    <tr>\n",
       "      <th>782</th>\n",
       "      <td>0</td>\n",
       "      <td>./training/nofire/nofire_0790.jpg</td>\n",
       "      <td>3</td>\n",
       "      <td>256</td>\n",
       "      <td>256</td>\n",
       "      <td>no</td>\n",
       "    </tr>\n",
       "    <tr>\n",
       "      <th>805</th>\n",
       "      <td>0</td>\n",
       "      <td>./training/nofire/nofire_0801.jpg</td>\n",
       "      <td>3</td>\n",
       "      <td>256</td>\n",
       "      <td>256</td>\n",
       "      <td>no</td>\n",
       "    </tr>\n",
       "    <tr>\n",
       "      <th>806</th>\n",
       "      <td>0</td>\n",
       "      <td>./training/nofire/nofire_0815.jpg</td>\n",
       "      <td>3</td>\n",
       "      <td>256</td>\n",
       "      <td>256</td>\n",
       "      <td>no</td>\n",
       "    </tr>\n",
       "    <tr>\n",
       "      <th>834</th>\n",
       "      <td>0</td>\n",
       "      <td>./training/nofire/nofire_0793.jpg</td>\n",
       "      <td>3</td>\n",
       "      <td>256</td>\n",
       "      <td>256</td>\n",
       "      <td>no</td>\n",
       "    </tr>\n",
       "    <tr>\n",
       "      <th>836</th>\n",
       "      <td>0</td>\n",
       "      <td>./training/nofire/nofire_0792.jpg</td>\n",
       "      <td>3</td>\n",
       "      <td>256</td>\n",
       "      <td>256</td>\n",
       "      <td>no</td>\n",
       "    </tr>\n",
       "    <tr>\n",
       "      <th>...</th>\n",
       "      <td>...</td>\n",
       "      <td>...</td>\n",
       "      <td>...</td>\n",
       "      <td>...</td>\n",
       "      <td>...</td>\n",
       "      <td>...</td>\n",
       "    </tr>\n",
       "    <tr>\n",
       "      <th>1874</th>\n",
       "      <td>0</td>\n",
       "      <td>./testing/nofire/nofire_0771.jpg</td>\n",
       "      <td>3</td>\n",
       "      <td>256</td>\n",
       "      <td>256</td>\n",
       "      <td>no</td>\n",
       "    </tr>\n",
       "    <tr>\n",
       "      <th>1875</th>\n",
       "      <td>0</td>\n",
       "      <td>./testing/nofire/nofire_0943.jpg</td>\n",
       "      <td>3</td>\n",
       "      <td>256</td>\n",
       "      <td>256</td>\n",
       "      <td>no</td>\n",
       "    </tr>\n",
       "    <tr>\n",
       "      <th>1883</th>\n",
       "      <td>0</td>\n",
       "      <td>./testing/nofire/nofire_0774.jpg</td>\n",
       "      <td>3</td>\n",
       "      <td>256</td>\n",
       "      <td>256</td>\n",
       "      <td>no</td>\n",
       "    </tr>\n",
       "    <tr>\n",
       "      <th>1891</th>\n",
       "      <td>0</td>\n",
       "      <td>./testing/nofire/nofire_0762.jpg</td>\n",
       "      <td>3</td>\n",
       "      <td>256</td>\n",
       "      <td>256</td>\n",
       "      <td>no</td>\n",
       "    </tr>\n",
       "    <tr>\n",
       "      <th>1898</th>\n",
       "      <td>0</td>\n",
       "      <td>./testing/nofire/nofire_0819.jpg</td>\n",
       "      <td>3</td>\n",
       "      <td>256</td>\n",
       "      <td>256</td>\n",
       "      <td>no</td>\n",
       "    </tr>\n",
       "  </tbody>\n",
       "</table>\n",
       "<p>74 rows × 6 columns</p>\n",
       "</div>"
      ],
      "text/plain": [
       "      label                               item  channels  width  height issues\n",
       "782       0  ./training/nofire/nofire_0790.jpg         3    256     256     no\n",
       "805       0  ./training/nofire/nofire_0801.jpg         3    256     256     no\n",
       "806       0  ./training/nofire/nofire_0815.jpg         3    256     256     no\n",
       "834       0  ./training/nofire/nofire_0793.jpg         3    256     256     no\n",
       "836       0  ./training/nofire/nofire_0792.jpg         3    256     256     no\n",
       "...     ...                                ...       ...    ...     ...    ...\n",
       "1874      0   ./testing/nofire/nofire_0771.jpg         3    256     256     no\n",
       "1875      0   ./testing/nofire/nofire_0943.jpg         3    256     256     no\n",
       "1883      0   ./testing/nofire/nofire_0774.jpg         3    256     256     no\n",
       "1891      0   ./testing/nofire/nofire_0762.jpg         3    256     256     no\n",
       "1898      0   ./testing/nofire/nofire_0819.jpg         3    256     256     no\n",
       "\n",
       "[74 rows x 6 columns]"
      ]
     },
     "execution_count": 19,
     "metadata": {},
     "output_type": "execute_result"
    }
   ],
   "source": [
    "df.query('width != 250')"
   ]
  },
  {
   "cell_type": "code",
   "execution_count": 20,
   "id": "c18ba571-c92a-45de-ab81-2050f7c26c1c",
   "metadata": {},
   "outputs": [
    {
     "data": {
      "text/html": [
       "<div>\n",
       "<style scoped>\n",
       "    .dataframe tbody tr th:only-of-type {\n",
       "        vertical-align: middle;\n",
       "    }\n",
       "\n",
       "    .dataframe tbody tr th {\n",
       "        vertical-align: top;\n",
       "    }\n",
       "\n",
       "    .dataframe thead th {\n",
       "        text-align: right;\n",
       "    }\n",
       "</style>\n",
       "<table border=\"1\" class=\"dataframe\">\n",
       "  <thead>\n",
       "    <tr style=\"text-align: right;\">\n",
       "      <th></th>\n",
       "      <th>label</th>\n",
       "      <th>item</th>\n",
       "      <th>channels</th>\n",
       "      <th>width</th>\n",
       "      <th>height</th>\n",
       "      <th>issues</th>\n",
       "    </tr>\n",
       "  </thead>\n",
       "  <tbody>\n",
       "    <tr>\n",
       "      <th>782</th>\n",
       "      <td>0</td>\n",
       "      <td>./training/nofire/nofire_0790.jpg</td>\n",
       "      <td>3</td>\n",
       "      <td>256</td>\n",
       "      <td>256</td>\n",
       "      <td>no</td>\n",
       "    </tr>\n",
       "    <tr>\n",
       "      <th>805</th>\n",
       "      <td>0</td>\n",
       "      <td>./training/nofire/nofire_0801.jpg</td>\n",
       "      <td>3</td>\n",
       "      <td>256</td>\n",
       "      <td>256</td>\n",
       "      <td>no</td>\n",
       "    </tr>\n",
       "    <tr>\n",
       "      <th>806</th>\n",
       "      <td>0</td>\n",
       "      <td>./training/nofire/nofire_0815.jpg</td>\n",
       "      <td>3</td>\n",
       "      <td>256</td>\n",
       "      <td>256</td>\n",
       "      <td>no</td>\n",
       "    </tr>\n",
       "    <tr>\n",
       "      <th>834</th>\n",
       "      <td>0</td>\n",
       "      <td>./training/nofire/nofire_0793.jpg</td>\n",
       "      <td>3</td>\n",
       "      <td>256</td>\n",
       "      <td>256</td>\n",
       "      <td>no</td>\n",
       "    </tr>\n",
       "    <tr>\n",
       "      <th>836</th>\n",
       "      <td>0</td>\n",
       "      <td>./training/nofire/nofire_0792.jpg</td>\n",
       "      <td>3</td>\n",
       "      <td>256</td>\n",
       "      <td>256</td>\n",
       "      <td>no</td>\n",
       "    </tr>\n",
       "    <tr>\n",
       "      <th>...</th>\n",
       "      <td>...</td>\n",
       "      <td>...</td>\n",
       "      <td>...</td>\n",
       "      <td>...</td>\n",
       "      <td>...</td>\n",
       "      <td>...</td>\n",
       "    </tr>\n",
       "    <tr>\n",
       "      <th>1874</th>\n",
       "      <td>0</td>\n",
       "      <td>./testing/nofire/nofire_0771.jpg</td>\n",
       "      <td>3</td>\n",
       "      <td>256</td>\n",
       "      <td>256</td>\n",
       "      <td>no</td>\n",
       "    </tr>\n",
       "    <tr>\n",
       "      <th>1875</th>\n",
       "      <td>0</td>\n",
       "      <td>./testing/nofire/nofire_0943.jpg</td>\n",
       "      <td>3</td>\n",
       "      <td>256</td>\n",
       "      <td>256</td>\n",
       "      <td>no</td>\n",
       "    </tr>\n",
       "    <tr>\n",
       "      <th>1883</th>\n",
       "      <td>0</td>\n",
       "      <td>./testing/nofire/nofire_0774.jpg</td>\n",
       "      <td>3</td>\n",
       "      <td>256</td>\n",
       "      <td>256</td>\n",
       "      <td>no</td>\n",
       "    </tr>\n",
       "    <tr>\n",
       "      <th>1891</th>\n",
       "      <td>0</td>\n",
       "      <td>./testing/nofire/nofire_0762.jpg</td>\n",
       "      <td>3</td>\n",
       "      <td>256</td>\n",
       "      <td>256</td>\n",
       "      <td>no</td>\n",
       "    </tr>\n",
       "    <tr>\n",
       "      <th>1898</th>\n",
       "      <td>0</td>\n",
       "      <td>./testing/nofire/nofire_0819.jpg</td>\n",
       "      <td>3</td>\n",
       "      <td>256</td>\n",
       "      <td>256</td>\n",
       "      <td>no</td>\n",
       "    </tr>\n",
       "  </tbody>\n",
       "</table>\n",
       "<p>74 rows × 6 columns</p>\n",
       "</div>"
      ],
      "text/plain": [
       "      label                               item  channels  width  height issues\n",
       "782       0  ./training/nofire/nofire_0790.jpg         3    256     256     no\n",
       "805       0  ./training/nofire/nofire_0801.jpg         3    256     256     no\n",
       "806       0  ./training/nofire/nofire_0815.jpg         3    256     256     no\n",
       "834       0  ./training/nofire/nofire_0793.jpg         3    256     256     no\n",
       "836       0  ./training/nofire/nofire_0792.jpg         3    256     256     no\n",
       "...     ...                                ...       ...    ...     ...    ...\n",
       "1874      0   ./testing/nofire/nofire_0771.jpg         3    256     256     no\n",
       "1875      0   ./testing/nofire/nofire_0943.jpg         3    256     256     no\n",
       "1883      0   ./testing/nofire/nofire_0774.jpg         3    256     256     no\n",
       "1891      0   ./testing/nofire/nofire_0762.jpg         3    256     256     no\n",
       "1898      0   ./testing/nofire/nofire_0819.jpg         3    256     256     no\n",
       "\n",
       "[74 rows x 6 columns]"
      ]
     },
     "execution_count": 20,
     "metadata": {},
     "output_type": "execute_result"
    }
   ],
   "source": [
    "df.query('height != 250')"
   ]
  },
  {
   "cell_type": "markdown",
   "id": "07e31f22-867c-43d6-960c-e97ba2be7dc9",
   "metadata": {},
   "source": [
    "We see there are 74 images with the incorrect height (256 x 256)"
   ]
  },
  {
   "cell_type": "markdown",
   "id": "6538e889-c15c-4c95-a1d6-cb5803218cc7",
   "metadata": {},
   "source": [
    "# Correcting for Oversized Images"
   ]
  },
  {
   "cell_type": "code",
   "execution_count": 21,
   "id": "f69641eb-d1db-4567-86af-b682774534dc",
   "metadata": {},
   "outputs": [],
   "source": [
    "from src.data.image_prep import crop_image"
   ]
  },
  {
   "cell_type": "code",
   "execution_count": 22,
   "id": "a3d34726-8220-45fa-bcad-60a8d6f4d90b",
   "metadata": {},
   "outputs": [
    {
     "name": "stdout",
     "output_type": "stream",
     "text": [
      "Help on function crop_image in module src.data.image_prep:\n",
      "\n",
      "crop_image(path_to_dataset, df_oversized, new_height, new_width)\n",
      "    Function that crops a set of images and saves a new file accordingly\n",
      "\n",
      "    Parameters\n",
      "    ----------\n",
      "    path_to_dataset : string\n",
      "        Path (absolute or relative) to contents of image dataset folder.\n",
      "        The dataset is assumed to have the following structure\n",
      "        dataset/\n",
      "            folder1/\n",
      "                subfolder1.1/\n",
      "            folder2/\n",
      "                subfolder2.1/\n",
      "                subfolder2.2/\n",
      "            folder3/\n",
      "\n",
      "    df_oversized : dataframe\n",
      "        A dataframe listing all the 'oversized' images, to be cropped.\n",
      "        It is assumed to have the following columns: `item`, `label`,`channels`,`height`,`width`\n",
      "\n",
      "    new_height : integer\n",
      "        Cropped image height in pixels\n",
      "\n",
      "    new_width : integer\n",
      "        Cropped image width in pixels\n",
      "\n",
      "    Returns\n",
      "    -------\n",
      "    Dataframe\n",
      "        Original `df_oversized` with three additonal columns\n",
      "        - `cropped_item`: name of the updated file\n",
      "        - `new_height`: new height in pixels\n",
      "        - `new_width`: new width in pixels\n",
      "\n"
     ]
    }
   ],
   "source": [
    "help(crop_image)"
   ]
  },
  {
   "cell_type": "code",
   "execution_count": 25,
   "id": "c837c886-f771-435f-a2c1-2a65584426b8",
   "metadata": {},
   "outputs": [],
   "source": [
    "df_oversized = df.query('height !=250').copy()"
   ]
  },
  {
   "cell_type": "code",
   "execution_count": 26,
   "id": "7589878b-b72b-4e79-bcaf-fb7544e600ba",
   "metadata": {},
   "outputs": [
    {
     "data": {
      "text/html": [
       "<div>\n",
       "<style scoped>\n",
       "    .dataframe tbody tr th:only-of-type {\n",
       "        vertical-align: middle;\n",
       "    }\n",
       "\n",
       "    .dataframe tbody tr th {\n",
       "        vertical-align: top;\n",
       "    }\n",
       "\n",
       "    .dataframe thead th {\n",
       "        text-align: right;\n",
       "    }\n",
       "</style>\n",
       "<table border=\"1\" class=\"dataframe\">\n",
       "  <thead>\n",
       "    <tr style=\"text-align: right;\">\n",
       "      <th></th>\n",
       "      <th>label</th>\n",
       "      <th>item</th>\n",
       "      <th>channels</th>\n",
       "      <th>width</th>\n",
       "      <th>height</th>\n",
       "      <th>issues</th>\n",
       "    </tr>\n",
       "  </thead>\n",
       "  <tbody>\n",
       "    <tr>\n",
       "      <th>782</th>\n",
       "      <td>0</td>\n",
       "      <td>./training/nofire/nofire_0790.jpg</td>\n",
       "      <td>3</td>\n",
       "      <td>256</td>\n",
       "      <td>256</td>\n",
       "      <td>no</td>\n",
       "    </tr>\n",
       "    <tr>\n",
       "      <th>805</th>\n",
       "      <td>0</td>\n",
       "      <td>./training/nofire/nofire_0801.jpg</td>\n",
       "      <td>3</td>\n",
       "      <td>256</td>\n",
       "      <td>256</td>\n",
       "      <td>no</td>\n",
       "    </tr>\n",
       "    <tr>\n",
       "      <th>806</th>\n",
       "      <td>0</td>\n",
       "      <td>./training/nofire/nofire_0815.jpg</td>\n",
       "      <td>3</td>\n",
       "      <td>256</td>\n",
       "      <td>256</td>\n",
       "      <td>no</td>\n",
       "    </tr>\n",
       "    <tr>\n",
       "      <th>834</th>\n",
       "      <td>0</td>\n",
       "      <td>./training/nofire/nofire_0793.jpg</td>\n",
       "      <td>3</td>\n",
       "      <td>256</td>\n",
       "      <td>256</td>\n",
       "      <td>no</td>\n",
       "    </tr>\n",
       "    <tr>\n",
       "      <th>836</th>\n",
       "      <td>0</td>\n",
       "      <td>./training/nofire/nofire_0792.jpg</td>\n",
       "      <td>3</td>\n",
       "      <td>256</td>\n",
       "      <td>256</td>\n",
       "      <td>no</td>\n",
       "    </tr>\n",
       "    <tr>\n",
       "      <th>...</th>\n",
       "      <td>...</td>\n",
       "      <td>...</td>\n",
       "      <td>...</td>\n",
       "      <td>...</td>\n",
       "      <td>...</td>\n",
       "      <td>...</td>\n",
       "    </tr>\n",
       "    <tr>\n",
       "      <th>1874</th>\n",
       "      <td>0</td>\n",
       "      <td>./testing/nofire/nofire_0771.jpg</td>\n",
       "      <td>3</td>\n",
       "      <td>256</td>\n",
       "      <td>256</td>\n",
       "      <td>no</td>\n",
       "    </tr>\n",
       "    <tr>\n",
       "      <th>1875</th>\n",
       "      <td>0</td>\n",
       "      <td>./testing/nofire/nofire_0943.jpg</td>\n",
       "      <td>3</td>\n",
       "      <td>256</td>\n",
       "      <td>256</td>\n",
       "      <td>no</td>\n",
       "    </tr>\n",
       "    <tr>\n",
       "      <th>1883</th>\n",
       "      <td>0</td>\n",
       "      <td>./testing/nofire/nofire_0774.jpg</td>\n",
       "      <td>3</td>\n",
       "      <td>256</td>\n",
       "      <td>256</td>\n",
       "      <td>no</td>\n",
       "    </tr>\n",
       "    <tr>\n",
       "      <th>1891</th>\n",
       "      <td>0</td>\n",
       "      <td>./testing/nofire/nofire_0762.jpg</td>\n",
       "      <td>3</td>\n",
       "      <td>256</td>\n",
       "      <td>256</td>\n",
       "      <td>no</td>\n",
       "    </tr>\n",
       "    <tr>\n",
       "      <th>1898</th>\n",
       "      <td>0</td>\n",
       "      <td>./testing/nofire/nofire_0819.jpg</td>\n",
       "      <td>3</td>\n",
       "      <td>256</td>\n",
       "      <td>256</td>\n",
       "      <td>no</td>\n",
       "    </tr>\n",
       "  </tbody>\n",
       "</table>\n",
       "<p>74 rows × 6 columns</p>\n",
       "</div>"
      ],
      "text/plain": [
       "      label                               item  channels  width  height issues\n",
       "782       0  ./training/nofire/nofire_0790.jpg         3    256     256     no\n",
       "805       0  ./training/nofire/nofire_0801.jpg         3    256     256     no\n",
       "806       0  ./training/nofire/nofire_0815.jpg         3    256     256     no\n",
       "834       0  ./training/nofire/nofire_0793.jpg         3    256     256     no\n",
       "836       0  ./training/nofire/nofire_0792.jpg         3    256     256     no\n",
       "...     ...                                ...       ...    ...     ...    ...\n",
       "1874      0   ./testing/nofire/nofire_0771.jpg         3    256     256     no\n",
       "1875      0   ./testing/nofire/nofire_0943.jpg         3    256     256     no\n",
       "1883      0   ./testing/nofire/nofire_0774.jpg         3    256     256     no\n",
       "1891      0   ./testing/nofire/nofire_0762.jpg         3    256     256     no\n",
       "1898      0   ./testing/nofire/nofire_0819.jpg         3    256     256     no\n",
       "\n",
       "[74 rows x 6 columns]"
      ]
     },
     "execution_count": 26,
     "metadata": {},
     "output_type": "execute_result"
    }
   ],
   "source": [
    "# just double checking both height and width are the same\n",
    "df_oversized.query('height == width')"
   ]
  },
  {
   "cell_type": "code",
   "execution_count": 27,
   "id": "cff0b251-77cf-46dd-a1d6-3423469541a6",
   "metadata": {},
   "outputs": [
    {
     "name": "stdout",
     "output_type": "stream",
     "text": [
      "\n",
      "Cropped ./training/nofire/nofire_0790.jpg to 250 x 250\n",
      "\n",
      "\n",
      "Cropped ./training/nofire/nofire_0801.jpg to 250 x 250\n",
      "\n",
      "\n",
      "Cropped ./training/nofire/nofire_0815.jpg to 250 x 250\n",
      "\n",
      "\n",
      "Cropped ./training/nofire/nofire_0793.jpg to 250 x 250\n",
      "\n",
      "\n",
      "Cropped ./training/nofire/nofire_0792.jpg to 250 x 250\n",
      "\n",
      "\n",
      "Cropped ./training/nofire/nofire_0779.jpg to 250 x 250\n",
      "\n",
      "\n",
      "Cropped ./training/nofire/nofire_0341.jpg to 250 x 250\n",
      "\n",
      "\n",
      "Cropped ./training/nofire/nofire_0806.jpg to 250 x 250\n",
      "\n",
      "\n",
      "Cropped ./training/nofire/nofire_0812.jpg to 250 x 250\n",
      "\n",
      "\n",
      "Cropped ./training/nofire/nofire_0769.jpg to 250 x 250\n",
      "\n",
      "\n",
      "Cropped ./training/nofire/nofire_0797.jpg to 250 x 250\n",
      "\n",
      "\n",
      "Cropped ./training/nofire/nofire_0768.jpg to 250 x 250\n",
      "\n",
      "\n",
      "Cropped ./training/nofire/nofire_0807.jpg to 250 x 250\n",
      "\n",
      "\n",
      "Cropped ./training/nofire/nofire_0811.jpg to 250 x 250\n",
      "\n",
      "\n",
      "Cropped ./training/nofire/nofire_0795.jpg to 250 x 250\n",
      "\n",
      "\n",
      "Cropped ./training/nofire/nofire_0794.jpg to 250 x 250\n",
      "\n",
      "\n",
      "Cropped ./training/nofire/nofire_0780.jpg to 250 x 250\n",
      "\n",
      "\n",
      "Cropped ./training/nofire/nofire_0810.jpg to 250 x 250\n",
      "\n",
      "\n",
      "Cropped ./training/nofire/nofire_0917.jpg to 250 x 250\n",
      "\n",
      "\n",
      "Cropped ./training/nofire/nofire_0914.jpg to 250 x 250\n",
      "\n",
      "\n",
      "Cropped ./training/nofire/nofire_0928.jpg to 250 x 250\n",
      "\n",
      "\n",
      "Cropped ./training/nofire/nofire_0929.jpg to 250 x 250\n",
      "\n",
      "\n",
      "Cropped ./training/nofire/nofire_0915.jpg to 250 x 250\n",
      "\n",
      "\n",
      "Cropped ./training/nofire/nofire_0939.jpg to 250 x 250\n",
      "\n",
      "\n",
      "Cropped ./training/nofire/nofire_0910.jpg to 250 x 250\n",
      "\n",
      "\n",
      "Cropped ./training/nofire/nofire_0912.jpg to 250 x 250\n",
      "\n",
      "\n",
      "Cropped ./training/nofire/nofire_0936.jpg to 250 x 250\n",
      "\n",
      "\n",
      "Cropped ./training/nofire/nofire_0937.jpg to 250 x 250\n",
      "\n",
      "\n",
      "Cropped ./training/nofire/nofire_0843.jpg to 250 x 250\n",
      "\n",
      "\n",
      "Cropped ./training/nofire/nofire_0909.jpg to 250 x 250\n",
      "\n",
      "\n",
      "Cropped ./training/nofire/nofire_0908.jpg to 250 x 250\n",
      "\n",
      "\n",
      "Cropped ./training/nofire/nofire_0920.jpg to 250 x 250\n",
      "\n",
      "\n",
      "Cropped ./training/nofire/nofire_0925.jpg to 250 x 250\n",
      "\n",
      "\n",
      "Cropped ./training/nofire/nofire_0931.jpg to 250 x 250\n",
      "\n",
      "\n",
      "Cropped ./training/nofire/nofire_0919.jpg to 250 x 250\n",
      "\n",
      "\n",
      "Cropped ./training/nofire/nofire_0933.jpg to 250 x 250\n",
      "\n",
      "\n",
      "Cropped ./training/nofire/nofire_0932.jpg to 250 x 250\n",
      "\n",
      "\n",
      "Cropped ./training/nofire/nofire_0821.jpg to 250 x 250\n",
      "\n",
      "\n",
      "Cropped ./training/nofire/nofire_0766.jpg to 250 x 250\n",
      "\n",
      "\n",
      "Cropped ./training/nofire/nofire_0772.jpg to 250 x 250\n",
      "\n",
      "\n",
      "Cropped ./training/nofire/nofire_0799.jpg to 250 x 250\n",
      "\n",
      "\n",
      "Cropped ./training/nofire/nofire_0940.jpg to 250 x 250\n",
      "\n",
      "\n",
      "Cropped ./training/nofire/nofire_0798.jpg to 250 x 250\n",
      "\n",
      "\n",
      "Cropped ./training/nofire/nofire_0773.jpg to 250 x 250\n",
      "\n",
      "\n",
      "Cropped ./training/nofire/nofire_0808.jpg to 250 x 250\n",
      "\n",
      "\n",
      "Cropped ./training/nofire/nofire_0822.jpg to 250 x 250\n",
      "\n",
      "\n",
      "Cropped ./training/nofire/nofire_0765.jpg to 250 x 250\n",
      "\n",
      "\n",
      "Cropped ./training/nofire/nofire_0942.jpg to 250 x 250\n",
      "\n",
      "\n",
      "Cropped ./training/nofire/nofire_0764.jpg to 250 x 250\n",
      "\n",
      "\n",
      "Cropped ./training/nofire/nofire_0770.jpg to 250 x 250\n",
      "\n",
      "\n",
      "Cropped ./training/nofire/nofire_0947.jpg to 250 x 250\n",
      "\n",
      "\n",
      "Cropped ./training/nofire/nofire_0946.jpg to 250 x 250\n",
      "\n",
      "\n",
      "Cropped ./training/nofire/nofire_0761.jpg to 250 x 250\n",
      "\n",
      "\n",
      "Cropped ./training/nofire/nofire_0775.jpg to 250 x 250\n",
      "\n",
      "\n",
      "Cropped ./training/nofire/nofire_0763.jpg to 250 x 250\n",
      "\n",
      "\n",
      "Cropped ./training/nofire/nofire_0944.jpg to 250 x 250\n",
      "\n",
      "\n",
      "Cropped ./testing/nofire/nofire_0800.jpg to 250 x 250\n",
      "\n",
      "\n",
      "Cropped ./testing/nofire/nofire_0791.jpg to 250 x 250\n",
      "\n",
      "\n",
      "Cropped ./testing/nofire/nofire_0785.jpg to 250 x 250\n",
      "\n",
      "\n",
      "Cropped ./testing/nofire/nofire_0787.jpg to 250 x 250\n",
      "\n",
      "\n",
      "Cropped ./testing/nofire/nofire_0796.jpg to 250 x 250\n",
      "\n",
      "\n",
      "Cropped ./testing/nofire/nofire_0813.jpg to 250 x 250\n",
      "\n",
      "\n",
      "Cropped ./testing/nofire/nofire_0781.jpg to 250 x 250\n",
      "\n",
      "\n",
      "Cropped ./testing/nofire/nofire_0911.jpg to 250 x 250\n",
      "\n",
      "\n",
      "Cropped ./testing/nofire/nofire_0938.jpg to 250 x 250\n",
      "\n",
      "\n",
      "Cropped ./testing/nofire/nofire_0899.jpg to 250 x 250\n",
      "\n",
      "\n",
      "Cropped ./testing/nofire/nofire_0930.jpg to 250 x 250\n",
      "\n",
      "\n",
      "Cropped ./testing/nofire/nofire_0809.jpg to 250 x 250\n",
      "\n",
      "\n",
      "Cropped ./testing/nofire/nofire_0767.jpg to 250 x 250\n",
      "\n",
      "\n",
      "Cropped ./testing/nofire/nofire_0771.jpg to 250 x 250\n",
      "\n",
      "\n",
      "Cropped ./testing/nofire/nofire_0943.jpg to 250 x 250\n",
      "\n",
      "\n",
      "Cropped ./testing/nofire/nofire_0774.jpg to 250 x 250\n",
      "\n",
      "\n",
      "Cropped ./testing/nofire/nofire_0762.jpg to 250 x 250\n",
      "\n",
      "\n",
      "Cropped ./testing/nofire/nofire_0819.jpg to 250 x 250\n",
      "\n"
     ]
    }
   ],
   "source": [
    "df_oversized = crop_image(path_to_dataset,df_oversized,250,250)"
   ]
  },
  {
   "cell_type": "code",
   "execution_count": 28,
   "id": "07414b92-efb2-4557-803e-16164590e1c4",
   "metadata": {},
   "outputs": [
    {
     "data": {
      "text/html": [
       "<div>\n",
       "<style scoped>\n",
       "    .dataframe tbody tr th:only-of-type {\n",
       "        vertical-align: middle;\n",
       "    }\n",
       "\n",
       "    .dataframe tbody tr th {\n",
       "        vertical-align: top;\n",
       "    }\n",
       "\n",
       "    .dataframe thead th {\n",
       "        text-align: right;\n",
       "    }\n",
       "</style>\n",
       "<table border=\"1\" class=\"dataframe\">\n",
       "  <thead>\n",
       "    <tr style=\"text-align: right;\">\n",
       "      <th></th>\n",
       "      <th>label</th>\n",
       "      <th>item</th>\n",
       "      <th>channels</th>\n",
       "      <th>width</th>\n",
       "      <th>height</th>\n",
       "      <th>issues</th>\n",
       "      <th>cropped_item</th>\n",
       "      <th>new_height</th>\n",
       "      <th>new_width</th>\n",
       "    </tr>\n",
       "  </thead>\n",
       "  <tbody>\n",
       "    <tr>\n",
       "      <th>782</th>\n",
       "      <td>0</td>\n",
       "      <td>./training/nofire/nofire_0790.jpg</td>\n",
       "      <td>3</td>\n",
       "      <td>256</td>\n",
       "      <td>256</td>\n",
       "      <td>no</td>\n",
       "      <td>./training/nofire/nofire_0790_cropped.jpg</td>\n",
       "      <td>0</td>\n",
       "      <td>0</td>\n",
       "    </tr>\n",
       "    <tr>\n",
       "      <th>805</th>\n",
       "      <td>0</td>\n",
       "      <td>./training/nofire/nofire_0801.jpg</td>\n",
       "      <td>3</td>\n",
       "      <td>256</td>\n",
       "      <td>256</td>\n",
       "      <td>no</td>\n",
       "      <td>./training/nofire/nofire_0801_cropped.jpg</td>\n",
       "      <td>0</td>\n",
       "      <td>0</td>\n",
       "    </tr>\n",
       "    <tr>\n",
       "      <th>806</th>\n",
       "      <td>0</td>\n",
       "      <td>./training/nofire/nofire_0815.jpg</td>\n",
       "      <td>3</td>\n",
       "      <td>256</td>\n",
       "      <td>256</td>\n",
       "      <td>no</td>\n",
       "      <td>./training/nofire/nofire_0815_cropped.jpg</td>\n",
       "      <td>0</td>\n",
       "      <td>0</td>\n",
       "    </tr>\n",
       "    <tr>\n",
       "      <th>834</th>\n",
       "      <td>0</td>\n",
       "      <td>./training/nofire/nofire_0793.jpg</td>\n",
       "      <td>3</td>\n",
       "      <td>256</td>\n",
       "      <td>256</td>\n",
       "      <td>no</td>\n",
       "      <td>./training/nofire/nofire_0793_cropped.jpg</td>\n",
       "      <td>0</td>\n",
       "      <td>0</td>\n",
       "    </tr>\n",
       "    <tr>\n",
       "      <th>836</th>\n",
       "      <td>0</td>\n",
       "      <td>./training/nofire/nofire_0792.jpg</td>\n",
       "      <td>3</td>\n",
       "      <td>256</td>\n",
       "      <td>256</td>\n",
       "      <td>no</td>\n",
       "      <td>./training/nofire/nofire_0792_cropped.jpg</td>\n",
       "      <td>0</td>\n",
       "      <td>0</td>\n",
       "    </tr>\n",
       "  </tbody>\n",
       "</table>\n",
       "</div>"
      ],
      "text/plain": [
       "     label                               item  channels  width  height issues  \\\n",
       "782      0  ./training/nofire/nofire_0790.jpg         3    256     256     no   \n",
       "805      0  ./training/nofire/nofire_0801.jpg         3    256     256     no   \n",
       "806      0  ./training/nofire/nofire_0815.jpg         3    256     256     no   \n",
       "834      0  ./training/nofire/nofire_0793.jpg         3    256     256     no   \n",
       "836      0  ./training/nofire/nofire_0792.jpg         3    256     256     no   \n",
       "\n",
       "                                  cropped_item  new_height  new_width  \n",
       "782  ./training/nofire/nofire_0790_cropped.jpg           0          0  \n",
       "805  ./training/nofire/nofire_0801_cropped.jpg           0          0  \n",
       "806  ./training/nofire/nofire_0815_cropped.jpg           0          0  \n",
       "834  ./training/nofire/nofire_0793_cropped.jpg           0          0  \n",
       "836  ./training/nofire/nofire_0792_cropped.jpg           0          0  "
      ]
     },
     "execution_count": 28,
     "metadata": {},
     "output_type": "execute_result"
    }
   ],
   "source": [
    "df_oversized.head()"
   ]
  },
  {
   "cell_type": "markdown",
   "id": "a5b70694-1ba3-4187-b530-f81ce0ff2919",
   "metadata": {},
   "source": [
    "Now let's make an updated dataframe where we are going to overwrite `item` with `cropped_item`. Note that we did not reset the index of `df_oversized`, so we can use that to find the appropriate rows."
   ]
  },
  {
   "cell_type": "code",
   "execution_count": 30,
   "id": "8639e938-8a02-4556-bcd7-c8596b694cce",
   "metadata": {},
   "outputs": [],
   "source": [
    "df_updated = df.copy()"
   ]
  },
  {
   "cell_type": "code",
   "execution_count": 32,
   "id": "946710c1-8675-4d0b-8fa1-1a2e5cc083e3",
   "metadata": {},
   "outputs": [
    {
     "data": {
      "text/html": [
       "<div>\n",
       "<style scoped>\n",
       "    .dataframe tbody tr th:only-of-type {\n",
       "        vertical-align: middle;\n",
       "    }\n",
       "\n",
       "    .dataframe tbody tr th {\n",
       "        vertical-align: top;\n",
       "    }\n",
       "\n",
       "    .dataframe thead th {\n",
       "        text-align: right;\n",
       "    }\n",
       "</style>\n",
       "<table border=\"1\" class=\"dataframe\">\n",
       "  <thead>\n",
       "    <tr style=\"text-align: right;\">\n",
       "      <th></th>\n",
       "      <th>label</th>\n",
       "      <th>item</th>\n",
       "      <th>channels</th>\n",
       "      <th>width</th>\n",
       "      <th>height</th>\n",
       "      <th>issues</th>\n",
       "    </tr>\n",
       "  </thead>\n",
       "  <tbody>\n",
       "    <tr>\n",
       "      <th>782</th>\n",
       "      <td>0</td>\n",
       "      <td>./training/nofire/nofire_0790.jpg</td>\n",
       "      <td>3</td>\n",
       "      <td>256</td>\n",
       "      <td>256</td>\n",
       "      <td>no</td>\n",
       "    </tr>\n",
       "    <tr>\n",
       "      <th>805</th>\n",
       "      <td>0</td>\n",
       "      <td>./training/nofire/nofire_0801.jpg</td>\n",
       "      <td>3</td>\n",
       "      <td>256</td>\n",
       "      <td>256</td>\n",
       "      <td>no</td>\n",
       "    </tr>\n",
       "    <tr>\n",
       "      <th>806</th>\n",
       "      <td>0</td>\n",
       "      <td>./training/nofire/nofire_0815.jpg</td>\n",
       "      <td>3</td>\n",
       "      <td>256</td>\n",
       "      <td>256</td>\n",
       "      <td>no</td>\n",
       "    </tr>\n",
       "    <tr>\n",
       "      <th>834</th>\n",
       "      <td>0</td>\n",
       "      <td>./training/nofire/nofire_0793.jpg</td>\n",
       "      <td>3</td>\n",
       "      <td>256</td>\n",
       "      <td>256</td>\n",
       "      <td>no</td>\n",
       "    </tr>\n",
       "    <tr>\n",
       "      <th>836</th>\n",
       "      <td>0</td>\n",
       "      <td>./training/nofire/nofire_0792.jpg</td>\n",
       "      <td>3</td>\n",
       "      <td>256</td>\n",
       "      <td>256</td>\n",
       "      <td>no</td>\n",
       "    </tr>\n",
       "    <tr>\n",
       "      <th>...</th>\n",
       "      <td>...</td>\n",
       "      <td>...</td>\n",
       "      <td>...</td>\n",
       "      <td>...</td>\n",
       "      <td>...</td>\n",
       "      <td>...</td>\n",
       "    </tr>\n",
       "    <tr>\n",
       "      <th>1874</th>\n",
       "      <td>0</td>\n",
       "      <td>./testing/nofire/nofire_0771.jpg</td>\n",
       "      <td>3</td>\n",
       "      <td>256</td>\n",
       "      <td>256</td>\n",
       "      <td>no</td>\n",
       "    </tr>\n",
       "    <tr>\n",
       "      <th>1875</th>\n",
       "      <td>0</td>\n",
       "      <td>./testing/nofire/nofire_0943.jpg</td>\n",
       "      <td>3</td>\n",
       "      <td>256</td>\n",
       "      <td>256</td>\n",
       "      <td>no</td>\n",
       "    </tr>\n",
       "    <tr>\n",
       "      <th>1883</th>\n",
       "      <td>0</td>\n",
       "      <td>./testing/nofire/nofire_0774.jpg</td>\n",
       "      <td>3</td>\n",
       "      <td>256</td>\n",
       "      <td>256</td>\n",
       "      <td>no</td>\n",
       "    </tr>\n",
       "    <tr>\n",
       "      <th>1891</th>\n",
       "      <td>0</td>\n",
       "      <td>./testing/nofire/nofire_0762.jpg</td>\n",
       "      <td>3</td>\n",
       "      <td>256</td>\n",
       "      <td>256</td>\n",
       "      <td>no</td>\n",
       "    </tr>\n",
       "    <tr>\n",
       "      <th>1898</th>\n",
       "      <td>0</td>\n",
       "      <td>./testing/nofire/nofire_0819.jpg</td>\n",
       "      <td>3</td>\n",
       "      <td>256</td>\n",
       "      <td>256</td>\n",
       "      <td>no</td>\n",
       "    </tr>\n",
       "  </tbody>\n",
       "</table>\n",
       "<p>74 rows × 6 columns</p>\n",
       "</div>"
      ],
      "text/plain": [
       "      label                               item  channels  width  height issues\n",
       "782       0  ./training/nofire/nofire_0790.jpg         3    256     256     no\n",
       "805       0  ./training/nofire/nofire_0801.jpg         3    256     256     no\n",
       "806       0  ./training/nofire/nofire_0815.jpg         3    256     256     no\n",
       "834       0  ./training/nofire/nofire_0793.jpg         3    256     256     no\n",
       "836       0  ./training/nofire/nofire_0792.jpg         3    256     256     no\n",
       "...     ...                                ...       ...    ...     ...    ...\n",
       "1874      0   ./testing/nofire/nofire_0771.jpg         3    256     256     no\n",
       "1875      0   ./testing/nofire/nofire_0943.jpg         3    256     256     no\n",
       "1883      0   ./testing/nofire/nofire_0774.jpg         3    256     256     no\n",
       "1891      0   ./testing/nofire/nofire_0762.jpg         3    256     256     no\n",
       "1898      0   ./testing/nofire/nofire_0819.jpg         3    256     256     no\n",
       "\n",
       "[74 rows x 6 columns]"
      ]
     },
     "execution_count": 32,
     "metadata": {},
     "output_type": "execute_result"
    }
   ],
   "source": [
    "df_updated.query('width !=250')"
   ]
  },
  {
   "cell_type": "code",
   "execution_count": 36,
   "id": "65bf2a6d-c177-4771-8943-a584d804f9cd",
   "metadata": {},
   "outputs": [],
   "source": [
    "for i,cropped_item in zip(df_oversized.index,df_oversized['cropped_item'].values):\n",
    "    df_updated.at[i,'item'] = cropped_item\n",
    "    df_updated.at[i,'width'] = 250\n",
    "    df_updated.at[i,'height'] = 250"
   ]
  },
  {
   "cell_type": "code",
   "execution_count": 37,
   "id": "5a814178-2fcb-4d3f-9ff2-2716af16d2c1",
   "metadata": {},
   "outputs": [
    {
     "data": {
      "text/html": [
       "<div>\n",
       "<style scoped>\n",
       "    .dataframe tbody tr th:only-of-type {\n",
       "        vertical-align: middle;\n",
       "    }\n",
       "\n",
       "    .dataframe tbody tr th {\n",
       "        vertical-align: top;\n",
       "    }\n",
       "\n",
       "    .dataframe thead th {\n",
       "        text-align: right;\n",
       "    }\n",
       "</style>\n",
       "<table border=\"1\" class=\"dataframe\">\n",
       "  <thead>\n",
       "    <tr style=\"text-align: right;\">\n",
       "      <th></th>\n",
       "      <th>label</th>\n",
       "      <th>item</th>\n",
       "      <th>channels</th>\n",
       "      <th>width</th>\n",
       "      <th>height</th>\n",
       "      <th>issues</th>\n",
       "    </tr>\n",
       "  </thead>\n",
       "  <tbody>\n",
       "  </tbody>\n",
       "</table>\n",
       "</div>"
      ],
      "text/plain": [
       "Empty DataFrame\n",
       "Columns: [label, item, channels, width, height, issues]\n",
       "Index: []"
      ]
     },
     "execution_count": 37,
     "metadata": {},
     "output_type": "execute_result"
    }
   ],
   "source": [
    "df_updated.query('width !=250')"
   ]
  },
  {
   "cell_type": "markdown",
   "id": "19cf5360-ad93-48a6-b7d4-9c8b1fc74836",
   "metadata": {},
   "source": [
    "We've successfully updated the dataframe."
   ]
  },
  {
   "cell_type": "markdown",
   "id": "6212a6a1-1eb3-48f3-b8d8-2773bf7d0a05",
   "metadata": {},
   "source": [
    "# Save Annotations File"
   ]
  },
  {
   "cell_type": "markdown",
   "id": "dbe32ae1-17d2-41c4-8e49-8c4f89cdccbe",
   "metadata": {},
   "source": [
    "Lastly, we have to save `df_updated` into annotation files, suitable for PyTorch. In total there will be 2 files:\n",
    "- train\n",
    "- test"
   ]
  },
  {
   "cell_type": "code",
   "execution_count": 39,
   "id": "74249160-01a1-4377-8417-22d7c0d5ed0e",
   "metadata": {},
   "outputs": [],
   "source": [
    "train_filter = df_updated['item'].str.contains('/train')\n",
    "test_filter = df_updated['item'].str.contains('/test')"
   ]
  },
  {
   "cell_type": "code",
   "execution_count": 40,
   "id": "cb79cad7-4713-4c13-b7af-669e0a705c67",
   "metadata": {},
   "outputs": [
    {
     "name": "stdout",
     "output_type": "stream",
     "text": [
      "Number of images:\n",
      "train 1520\n",
      "test 380\n"
     ]
    }
   ],
   "source": [
    "print('Number of images:')\n",
    "print('train',train_filter.sum())\n",
    "print('test',test_filter.sum())"
   ]
  },
  {
   "cell_type": "code",
   "execution_count": 41,
   "id": "d325fe8a-8f1f-45b7-8b6b-6e129c2d916a",
   "metadata": {},
   "outputs": [
    {
     "data": {
      "text/plain": [
       "1900"
      ]
     },
     "execution_count": 41,
     "metadata": {},
     "output_type": "execute_result"
    }
   ],
   "source": [
    "1520 + 380"
   ]
  },
  {
   "cell_type": "code",
   "execution_count": 42,
   "id": "d9b3b789-ed23-4493-9615-fa537eef8d73",
   "metadata": {},
   "outputs": [
    {
     "data": {
      "text/plain": [
       "(1900, 6)"
      ]
     },
     "execution_count": 42,
     "metadata": {},
     "output_type": "execute_result"
    }
   ],
   "source": [
    "df_updated.shape"
   ]
  },
  {
   "cell_type": "markdown",
   "id": "161cee0c-c173-41ef-9827-30ff9f8c110b",
   "metadata": {},
   "source": [
    "All numbers add up correctly."
   ]
  },
  {
   "cell_type": "code",
   "execution_count": 43,
   "id": "ecbbcbf1-ac75-4094-9cab-0338f3a61b97",
   "metadata": {},
   "outputs": [
    {
     "data": {
      "text/html": [
       "<div>\n",
       "<style scoped>\n",
       "    .dataframe tbody tr th:only-of-type {\n",
       "        vertical-align: middle;\n",
       "    }\n",
       "\n",
       "    .dataframe tbody tr th {\n",
       "        vertical-align: top;\n",
       "    }\n",
       "\n",
       "    .dataframe thead th {\n",
       "        text-align: right;\n",
       "    }\n",
       "</style>\n",
       "<table border=\"1\" class=\"dataframe\">\n",
       "  <thead>\n",
       "    <tr style=\"text-align: right;\">\n",
       "      <th></th>\n",
       "      <th>item</th>\n",
       "      <th>label</th>\n",
       "    </tr>\n",
       "  </thead>\n",
       "  <tbody>\n",
       "    <tr>\n",
       "      <th>0</th>\n",
       "      <td>./training/fire/fire_0489.jpg</td>\n",
       "      <td>1</td>\n",
       "    </tr>\n",
       "    <tr>\n",
       "      <th>1</th>\n",
       "      <td>./training/fire/fire_0338.jpg</td>\n",
       "      <td>1</td>\n",
       "    </tr>\n",
       "    <tr>\n",
       "      <th>2</th>\n",
       "      <td>./training/fire/fire_0310.jpg</td>\n",
       "      <td>1</td>\n",
       "    </tr>\n",
       "    <tr>\n",
       "      <th>3</th>\n",
       "      <td>./training/fire/fire_0476.jpg</td>\n",
       "      <td>1</td>\n",
       "    </tr>\n",
       "    <tr>\n",
       "      <th>4</th>\n",
       "      <td>./training/fire/fire_0462.jpg</td>\n",
       "      <td>1</td>\n",
       "    </tr>\n",
       "  </tbody>\n",
       "</table>\n",
       "</div>"
      ],
      "text/plain": [
       "                            item  label\n",
       "0  ./training/fire/fire_0489.jpg      1\n",
       "1  ./training/fire/fire_0338.jpg      1\n",
       "2  ./training/fire/fire_0310.jpg      1\n",
       "3  ./training/fire/fire_0476.jpg      1\n",
       "4  ./training/fire/fire_0462.jpg      1"
      ]
     },
     "execution_count": 43,
     "metadata": {},
     "output_type": "execute_result"
    }
   ],
   "source": [
    "train_df = df_updated.loc[train_filter,['item','label']]\n",
    "train_df.head()"
   ]
  },
  {
   "cell_type": "code",
   "execution_count": 44,
   "id": "dd60adef-5f4f-4e5f-ae58-fb52d05c7f30",
   "metadata": {},
   "outputs": [],
   "source": [
    "train_df.to_csv('labels_02_train_dataset.csv', index = False, header = False)"
   ]
  },
  {
   "cell_type": "code",
   "execution_count": 45,
   "id": "db829f25-f04c-4641-b7d7-d74468800617",
   "metadata": {},
   "outputs": [],
   "source": [
    "test_df = df_updated.loc[test_filter,['item','label']]\n",
    "test_df.to_csv('labels_02_test_dataset.csv', index = False, header = False)"
   ]
  },
  {
   "cell_type": "code",
   "execution_count": 47,
   "id": "0f3d721e-ff76-47b4-bfb1-27fca943b1f4",
   "metadata": {},
   "outputs": [
    {
     "name": "stdout",
     "output_type": "stream",
     "text": [
      "labels_02_test_dataset.csv  labels_02_train_dataset.csv\n"
     ]
    },
    {
     "name": "stderr",
     "output_type": "stream",
     "text": [
      "python3.12(37245) MallocStackLogging: can't turn off malloc stack logging because it was not enabled.\n"
     ]
    }
   ],
   "source": [
    "! ls labels_02_*_dataset.csv"
   ]
  },
  {
   "cell_type": "code",
   "execution_count": 48,
   "id": "f80ee6bc-5377-4759-b98d-004452d0c6d1",
   "metadata": {},
   "outputs": [
    {
     "name": "stderr",
     "output_type": "stream",
     "text": [
      "python3.12(37255) MallocStackLogging: can't turn off malloc stack logging because it was not enabled.\n"
     ]
    }
   ],
   "source": [
    "! mv labels_02_*_dataset.csv ../data_preprocessing/02_deepfire_dataset"
   ]
  },
  {
   "cell_type": "code",
   "execution_count": 49,
   "id": "c721144e-5959-48ff-980c-3a5e226a10f5",
   "metadata": {},
   "outputs": [
    {
     "name": "stdout",
     "output_type": "stream",
     "text": [
      "zsh:1: no matches found: labels_02_*_dataset.csv\n"
     ]
    },
    {
     "name": "stderr",
     "output_type": "stream",
     "text": [
      "python3.12(37259) MallocStackLogging: can't turn off malloc stack logging because it was not enabled.\n"
     ]
    }
   ],
   "source": [
    "! ls labels_02_*_dataset.csv"
   ]
  }
 ],
 "metadata": {
  "kernelspec": {
   "display_name": "pytorch_env_kernel",
   "language": "python",
   "name": "pytorch_env_kernel"
  },
  "language_info": {
   "codemirror_mode": {
    "name": "ipython",
    "version": 3
   },
   "file_extension": ".py",
   "mimetype": "text/x-python",
   "name": "python",
   "nbconvert_exporter": "python",
   "pygments_lexer": "ipython3",
   "version": "3.12.2"
  }
 },
 "nbformat": 4,
 "nbformat_minor": 5
}
